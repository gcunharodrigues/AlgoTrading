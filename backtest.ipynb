{
 "cells": [
  {
   "cell_type": "markdown",
   "metadata": {},
   "source": [
    "Framework para construção do backtest de uma estratégia de trading."
   ]
  },
  {
   "cell_type": "markdown",
   "metadata": {},
   "source": [
    "Estratégia de trading será de Mean Reversion para o Day Trading.\n",
    "\n",
    "Consistirá de entradas utilizando o CCI e saídas em sinais de reversão do\n",
    "CCI. "
   ]
  },
  {
   "cell_type": "markdown",
   "metadata": {},
   "source": [
    "Importando as bibliotecas necessárias:"
   ]
  },
  {
   "cell_type": "code",
   "execution_count": 1,
   "metadata": {},
   "outputs": [],
   "source": [
    "from datetime import datetime, timedelta\n",
    "from time import sleep\n",
    "from api.dwx_client import dwx_client"
   ]
  },
  {
   "cell_type": "markdown",
   "metadata": {},
   "source": [
    "Inicializando a variável para coleta de dados do MT5:"
   ]
  },
  {
   "cell_type": "code",
   "execution_count": 2,
   "metadata": {},
   "outputs": [],
   "source": [
    "MT4_files_dir = 'C:/Users/guicr/AppData/Roaming/MetaQuotes/Terminal/'\\\n",
    "                'D0E8209F77C8CF37AD8BF550E51FF075/MQL5/Files/'\n",
    "dwx = dwx_client(event_handler=\"user\", \n",
    "                 metatrader_dir_path=MT4_files_dir)"
   ]
  },
  {
   "cell_type": "markdown",
   "metadata": {},
   "source": [
    "Inicializando o cliente de dados:"
   ]
  },
  {
   "cell_type": "code",
   "execution_count": 3,
   "metadata": {},
   "outputs": [
    {
     "name": "stderr",
     "output_type": "stream",
     "text": [
      "Exception in thread Thread-6:\n",
      "Traceback (most recent call last):\n",
      "  File \"C:\\ProgramData\\Anaconda3\\lib\\threading.py\", line 973, in _bootstrap_inner\n",
      "Exception in thread Exception in thread Thread-9Thread-10:\n",
      "Traceback (most recent call last):\n",
      "  File \"C:\\ProgramData\\Anaconda3\\lib\\threading.py\", line 973, in _bootstrap_inner\n",
      ":\n",
      "Traceback (most recent call last):\n",
      "  File \"C:\\ProgramData\\Anaconda3\\lib\\threading.py\", line 973, in _bootstrap_inner\n",
      "    self.run()\n",
      "  File \"C:\\ProgramData\\Anaconda3\\lib\\threading.py\", line 910, in run\n",
      "    self.run()\n",
      "  File \"C:\\ProgramData\\Anaconda3\\lib\\threading.py\", line 910, in run\n",
      "    self.run()\n",
      "  File \"C:\\ProgramData\\Anaconda3\\lib\\threading.py\", line 910, in run\n",
      "    self._target(*self._args, **self._kwargs)\n",
      "  File \"c:\\Users\\guicr\\OneDrive\\Programming\\Projects\\AlgoTrading\\api\\dwx_client.py\", line 222, in check_messages\n",
      "    self._target(*self._args, **self._kwargs)\n",
      "  File \"c:\\Users\\guicr\\OneDrive\\Programming\\Projects\\AlgoTrading\\api\\dwx_client.py\", line 192, in check_open_orders\n",
      "    self._target(*self._args, **self._kwargs)\n",
      "  File \"c:\\Users\\guicr\\OneDrive\\Programming\\Projects\\AlgoTrading\\api\\dwx_client.py\", line 320, in check_historic_data\n",
      "        self.event_handler.on_message(message)self.event_handler.on_order_event()\n",
      "AttributeError: 'str' object has no attribute 'on_order_event'\n",
      "AttributeError: 'str' object has no attribute 'on_message'\n",
      "\n",
      "    self.event_handler.on_historic_data(symbol, time_frame, data[st])\n",
      "AttributeError: 'str' object has no attribute 'on_historic_data'\n"
     ]
    },
    {
     "name": "stdout",
     "output_type": "stream",
     "text": [
      "New order:  {'magic': 0, 'symbol': 'BRCR11', 'lots': 3.0, 'type': 'buy', 'open_price': 88.04333, 'open_time': '2019.05.02 15:36:00', 'SL': 0.0, 'TP': 0.0, 'pnl': -52.63, 'swap': 0.0, 'comment': ''}\n",
      "New order:  {'magic': 0, 'symbol': 'FLMA11', 'lots': 25.0, 'type': 'buy', 'open_price': 2.9552, 'open_time': '2019.02.18 17:16:21', 'SL': 0.0, 'TP': 0.0, 'pnl': 2844.87, 'swap': 0.0, 'comment': ''}\n"
     ]
    }
   ],
   "source": [
    "dwx.start()"
   ]
  },
  {
   "cell_type": "markdown",
   "metadata": {},
   "source": [
    "Verificando informações sobre a conta de trading:"
   ]
  },
  {
   "cell_type": "code",
   "execution_count": 4,
   "metadata": {},
   "outputs": [
    {
     "name": "stdout",
     "output_type": "stream",
     "text": [
      "{'name': 'GUILHERME CUNHA RODRIGUES', 'number': 39959, 'currency': 'BRL', 'leverage': 25, 'free_margin': 2793.74, 'balance': 1.5, 'equity': 2793.74}\n"
     ]
    }
   ],
   "source": [
    "print(dwx.account_info)"
   ]
  },
  {
   "cell_type": "markdown",
   "metadata": {},
   "source": [
    "Parando a atualização automática dos dados advindos do MT5:"
   ]
  },
  {
   "cell_type": "code",
   "execution_count": 5,
   "metadata": {},
   "outputs": [
    {
     "name": "stdout",
     "output_type": "stream",
     "text": [
      "False\n",
      "False\n"
     ]
    }
   ],
   "source": [
    "dwx.stop()\n",
    "print(dwx.START)\n",
    "print(dwx.ACTIVE)"
   ]
  },
  {
   "cell_type": "markdown",
   "metadata": {},
   "source": [
    "Solicitando dados históricos do Ativo:"
   ]
  },
  {
   "cell_type": "code",
   "execution_count": null,
   "metadata": {},
   "outputs": [],
   "source": [
    "dwx.get_historic_data('WIN$', 'M15')"
   ]
  },
  {
   "cell_type": "code",
   "execution_count": null,
   "metadata": {},
   "outputs": [],
   "source": [
    "dwx.historic_data"
   ]
  }
 ],
 "metadata": {
  "interpreter": {
   "hash": "b3ba2566441a7c06988d0923437866b63cedc61552a5af99d1f4fb67d367b25f"
  },
  "kernelspec": {
   "display_name": "Python 3.9.7 64-bit ('base': conda)",
   "language": "python",
   "name": "python3"
  },
  "language_info": {
   "codemirror_mode": {
    "name": "ipython",
    "version": 3
   },
   "file_extension": ".py",
   "mimetype": "text/x-python",
   "name": "python",
   "nbconvert_exporter": "python",
   "pygments_lexer": "ipython3",
   "version": "3.9.7"
  },
  "orig_nbformat": 4
 },
 "nbformat": 4,
 "nbformat_minor": 2
}
