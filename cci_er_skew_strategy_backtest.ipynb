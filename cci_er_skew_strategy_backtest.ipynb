{
 "cells": [
  {
   "cell_type": "markdown",
   "metadata": {},
   "source": [
    "Importando libraries"
   ]
  },
  {
   "cell_type": "code",
   "execution_count": 1,
   "metadata": {},
   "outputs": [],
   "source": [
    "import pandas as pd\n",
    "import numpy as np\n",
    "import talib\n",
    "from funcoes_preco import organize_data, get_efficiency_ratio, get_stats\n",
    "import dwx_query\n",
    "from datetime import datetime, timedelta\n",
    "from bisect import bisect_right\n",
    "from scipy import stats"
   ]
  },
  {
   "cell_type": "markdown",
   "metadata": {},
   "source": [
    "Dados de entrada"
   ]
  },
  {
   "cell_type": "code",
   "execution_count": 2,
   "metadata": {},
   "outputs": [],
   "source": [
    "# files_dir = 'C:/Users/guicr/AppData/Roaming/MetaQuotes/Terminal/'\\\n",
    "#             'D0E8209F77C8CF37AD8BF550E51FF075/MQL5/Files/'\n",
    "symbol = 'PETR4'\n",
    "tf_1 = 'M5'\n",
    "tf_2 = 'M5'\n",
    "timeframes = [tf_1, tf_2]\n",
    "strategy_name = f'cci_er_skew_strategy_{symbol}_{tf_1}_{tf_2}'\n",
    "# start = datetime(2017, 1, 1).timestamp()\n",
    "# end = datetime(2020, 12, 31).timestamp()"
   ]
  },
  {
   "cell_type": "markdown",
   "metadata": {},
   "source": [
    "Gravando dados recebidos em um dicionário"
   ]
  },
  {
   "cell_type": "code",
   "execution_count": 3,
   "metadata": {},
   "outputs": [],
   "source": [
    "data = {timeframe: organize_data(f'data/{symbol}_{timeframe}.csv') \n",
    "        for timeframe in timeframes}"
   ]
  },
  {
   "cell_type": "markdown",
   "metadata": {},
   "source": [
    "Enviando os dados para dataframes"
   ]
  },
  {
   "cell_type": "code",
   "execution_count": 4,
   "metadata": {},
   "outputs": [],
   "source": [
    "symbol_data = data.copy()"
   ]
  },
  {
   "cell_type": "markdown",
   "metadata": {},
   "source": [
    "Copiando os dataframes para uma variável de manipulação"
   ]
  },
  {
   "cell_type": "code",
   "execution_count": 5,
   "metadata": {},
   "outputs": [],
   "source": [
    "start = datetime(2015, 1, 1)\n",
    "end = datetime(2021, 12, 31)\n",
    "eqty_table = {timeframe: \n",
    "    symbol_data[timeframe].loc[(symbol_data[timeframe]['Date'] >= start) \n",
    "                               & (symbol_data[timeframe]['Date'] <= end)].copy()\n",
    "    for timeframe in timeframes}\n",
    "for timeframe in timeframes:\n",
    "    eqty_table[timeframe].reset_index(inplace=True, drop=True)"
   ]
  },
  {
   "cell_type": "markdown",
   "metadata": {},
   "source": [
    "Calculando o retorno barra a barra"
   ]
  },
  {
   "cell_type": "code",
   "execution_count": 6,
   "metadata": {},
   "outputs": [],
   "source": [
    "pct_change = {timeframe: eqty_table[timeframe]['Close'].pct_change() \n",
    "              for timeframe in timeframes}\n",
    "for timeframe in timeframes:\n",
    "    eqty_table[timeframe]['Percent Change'] = pct_change[timeframe]"
   ]
  },
  {
   "cell_type": "markdown",
   "metadata": {},
   "source": [
    "Triggers"
   ]
  },
  {
   "cell_type": "code",
   "execution_count": 7,
   "metadata": {},
   "outputs": [],
   "source": [
    "cci_period = 20\n",
    "cci = talib.CCI(eqty_table[tf_1]['High'], eqty_table[tf_1]['Low'], \n",
    "                eqty_table[tf_1]['Close'], timeperiod=cci_period)\n",
    "eqty_table[tf_1]['CCI'] = cci"
   ]
  },
  {
   "cell_type": "code",
   "execution_count": 8,
   "metadata": {},
   "outputs": [],
   "source": [
    "std_dev_period = 15\n",
    "std_dev = get_stats(eqty_table[tf_1]['Close'], std_dev_period)['std']\n",
    "eqty_table[tf_1]['Standard Deviation'] = std_dev"
   ]
  },
  {
   "cell_type": "markdown",
   "metadata": {},
   "source": [
    "Filters"
   ]
  },
  {
   "cell_type": "code",
   "execution_count": 9,
   "metadata": {},
   "outputs": [
    {
     "name": "stderr",
     "output_type": "stream",
     "text": [
      "c:\\Users\\guicr\\OneDrive\\Programming\\Projects\\AlgoTrading\\funcoes_preco.py:88: RuntimeWarning: invalid value encountered in true_divide\n",
      "  efficiency_ratio = np.divide(net_change,sum_change).tolist()\n"
     ]
    }
   ],
   "source": [
    "er_period = 8\n",
    "efficiency_ratio = get_efficiency_ratio(eqty_table[tf_2]['Close'], \n",
    "                                        timeperiod=er_period)\n",
    "eqty_table[tf_2]['Efficiency Ratio'] = efficiency_ratio['efficiency_ratio']\n"
   ]
  },
  {
   "cell_type": "code",
   "execution_count": 10,
   "metadata": {},
   "outputs": [],
   "source": [
    "skew_period = 15\n",
    "skewness = get_stats(eqty_table[tf_2]['Close'], skew_period)['skewness']\n",
    "eqty_table[tf_2]['Skewness'] = skewness"
   ]
  },
  {
   "cell_type": "markdown",
   "metadata": {},
   "source": [
    "Preparação do Dataframe para receber as informações de trade.\n",
    "Integração entre o Timeframe maior com o menor."
   ]
  },
  {
   "cell_type": "markdown",
   "metadata": {},
   "source": [
    "Mudar o tipo da coluna 'Date' para datetime."
   ]
  },
  {
   "cell_type": "code",
   "execution_count": 11,
   "metadata": {},
   "outputs": [],
   "source": [
    "for timeframe in timeframes:\n",
    "    eqty_table[timeframe]['Date'] = pd.to_datetime(eqty_table[timeframe]['Date'])"
   ]
  },
  {
   "cell_type": "markdown",
   "metadata": {},
   "source": [
    "Colocando um marcador para identificar a correspondência entre o Timeframe \n",
    "maior e o menor."
   ]
  },
  {
   "cell_type": "code",
   "execution_count": 12,
   "metadata": {},
   "outputs": [],
   "source": [
    "lwr_timeframe_table = eqty_table[tf_1].copy()\n",
    "hgr_timeframe_table = eqty_table[tf_2].copy()"
   ]
  },
  {
   "cell_type": "code",
   "execution_count": 13,
   "metadata": {},
   "outputs": [],
   "source": [
    "index_higher_timeframe = []\n",
    "for row_lwr_timeframe in lwr_timeframe_table.index:\n",
    "    index = bisect_right(hgr_timeframe_table['Date'], \n",
    "                         lwr_timeframe_table.loc[row_lwr_timeframe, 'Date'])\n",
    "    index_higher_timeframe.append(index-1)"
   ]
  },
  {
   "cell_type": "code",
   "execution_count": 14,
   "metadata": {},
   "outputs": [],
   "source": [
    "eqty_table[tf_1]['Index Higher Timeframe'] = index_higher_timeframe"
   ]
  },
  {
   "cell_type": "markdown",
   "metadata": {},
   "source": [
    "Configuração dos sinais de compra e venda."
   ]
  },
  {
   "cell_type": "code",
   "execution_count": 51,
   "metadata": {},
   "outputs": [],
   "source": [
    "open_position = False\n",
    "position = []\n",
    "pos_type = []\n",
    "\n",
    "shift = 0\n",
    "er_1 = 0.1\n",
    "er_2 = 1\n",
    "\n",
    "d_top = 0\n",
    "d_bottom = 0\n",
    "\n",
    "for row in eqty_table[tf_1].index:\n",
    "    \n",
    "    if row < cci_period:\n",
    "        continue\n",
    "    \n",
    "    # # Verificação de Topo Duplo ou Fundo Duplo\n",
    "    # if d_bottom == 0:\n",
    "    #     if eqty_table[tf_1].loc[row-1, 'CCI'] < -100 and \\\n",
    "    #         eqty_table[tf_1].loc[row, 'CCI'] > -100:\n",
    "    #             d_bottom += 1\n",
    "                \n",
    "    # if d_top == 0:\n",
    "    #     if eqty_table[tf_1].loc[row-1, 'CCI'] > 100 and \\\n",
    "    #         eqty_table[tf_1].loc[row, 'CCI'] < 100:\n",
    "    #             d_top += 1\n",
    "                \n",
    "    # if d_bottom > 0 and eqty_table[tf_1].loc[row, 'CCI'] > 0:\n",
    "    #     d_bottom = 0\n",
    "    \n",
    "    # if d_top > 0 and eqty_table[tf_1].loc[row, 'CCI'] < 0:\n",
    "    #     d_top = 0                \n",
    "\n",
    "    # Sinal entrada de Compra\n",
    "    elif not open_position and \\\n",
    "        d_bottom == 0 and \\\n",
    "        eqty_table[tf_1].loc[row-1, 'CCI'] < 0 and \\\n",
    "        eqty_table[tf_1].loc[row, 'CCI'] > 0 and \\\n",
    "        eqty_table[tf_2].loc[eqty_table[tf_1]['Index Higher Timeframe'][row]-shift, \n",
    "                                'Skewness'] < -0.5 and \\\n",
    "        eqty_table[tf_2].loc[eqty_table[tf_1]['Index Higher Timeframe'][row]-shift, \n",
    "                                'Skewness'] > -1 and \\\n",
    "        eqty_table[tf_2].loc[eqty_table[tf_1]['Index Higher Timeframe'][row]-shift,\n",
    "                              'Efficiency Ratio'] < er_1 and \\\n",
    "        eqty_table[tf_2].loc[eqty_table[tf_1]['Index Higher Timeframe'][row]-1-shift,\n",
    "                              'Efficiency Ratio'] < er_2:\n",
    "            open_position = True\n",
    "            pos_type = 'Buy'\n",
    "            # Revisar como fazer arredondamento de 5 em 5\n",
    "            stop_loss = eqty_table[tf_1].loc[row, 'Close'] - \\\n",
    "                (5 * np.ceil((2 * eqty_table[tf_1].loc[row, 'Standard Deviation']) / 5))\n",
    "            std = eqty_table[tf_1].loc[row, 'Standard Deviation']\n",
    "            position.append([row, pos_type, eqty_table[tf_1].loc[row+1, 'Open'],\n",
    "                             std, stop_loss])\n",
    "    \n",
    "    # Sinal de Saída da Compra\n",
    "    elif open_position and \\\n",
    "        pos_type == 'Buy' and \\\n",
    "        eqty_table[tf_1].loc[row-1, 'CCI'] < 100 and \\\n",
    "        eqty_table[tf_1].loc[row, 'CCI'] > 100:\n",
    "            open_position = False\n",
    "            pos_type = 'Exit Buy'\n",
    "            position.append([row, pos_type, eqty_table[tf_1].loc[row, 'Close'],\n",
    "                             np.nan, np.nan])\n",
    "    \n",
    "    elif open_position and \\\n",
    "        pos_type == 'Buy' and \\\n",
    "        eqty_table[tf_1].loc[row-1, 'CCI'] > -100 and \\\n",
    "        eqty_table[tf_1].loc[row, 'CCI'] < -100:\n",
    "            open_position = False\n",
    "            pos_type = 'Exit Buy'\n",
    "            position.append([row, pos_type, eqty_table[tf_1].loc[row, 'Close'],\n",
    "                             np.nan, np.nan])\n",
    "    \n",
    "    elif open_position and \\\n",
    "        eqty_table[tf_1].loc[row, 'Low'] <= stop_loss:\n",
    "            open_position = False\n",
    "            pos_type = 'Exit Buy'\n",
    "            position.append([row, pos_type, stop_loss, np.nan, np.nan])\n",
    "            \n",
    "    # Sinal entrada de Venda\n",
    "    elif not open_position and \\\n",
    "        d_top == 0 and \\\n",
    "        eqty_table[tf_1].loc[row-1, 'CCI'] > 0 and \\\n",
    "        eqty_table[tf_1].loc[row, 'CCI'] < 0 and \\\n",
    "        eqty_table[tf_2].loc[eqty_table[tf_1]['Index Higher Timeframe'][row]-shift, \n",
    "                                'Skewness'] > 0.5 and \\\n",
    "        eqty_table[tf_2].loc[eqty_table[tf_1]['Index Higher Timeframe'][row]-shift, \n",
    "                                'Skewness'] < 1 and \\\n",
    "        eqty_table[tf_2].loc[eqty_table[tf_1]['Index Higher Timeframe'][row]-shift,\n",
    "                              'Efficiency Ratio'] < er_1 and \\\n",
    "        eqty_table[tf_2].loc[eqty_table[tf_1]['Index Higher Timeframe'][row]-1-shift,\n",
    "                              'Efficiency Ratio'] < er_2:\n",
    "            open_position = True\n",
    "            pos_type = 'Sell'\n",
    "            stop_loss = eqty_table[tf_1].loc[row, 'Close'] + \\\n",
    "                (5 * np.ceil((2 * eqty_table[tf_1].loc[row, 'Standard Deviation']) / 5))\n",
    "            std = eqty_table[tf_1].loc[row, 'Standard Deviation']\n",
    "            position.append([row, pos_type, eqty_table[tf_1].loc[row+1, 'Open'],\n",
    "                             std, stop_loss])\n",
    "            \n",
    "    # Sinal de Saída da Venda\n",
    "    elif open_position and \\\n",
    "        pos_type == 'Sell' and \\\n",
    "        eqty_table[tf_1].loc[row-1, 'CCI'] > -100 and \\\n",
    "        eqty_table[tf_1].loc[row, 'CCI'] < -100:\n",
    "            open_position = False\n",
    "            pos_type = 'Exit Sell'\n",
    "            position.append([row, pos_type, eqty_table[tf_1].loc[row, 'Close'],\n",
    "                             np.nan, np.nan])\n",
    "    \n",
    "    elif open_position and \\\n",
    "        pos_type == 'Sell' and \\\n",
    "        eqty_table[tf_1].loc[row-1, 'CCI'] < 100 and \\\n",
    "        eqty_table[tf_1].loc[row, 'CCI'] > 100:\n",
    "            open_position = False\n",
    "            pos_type = 'Exit Sell'\n",
    "            position.append([row, pos_type, eqty_table[tf_1].loc[row, 'Close'],\n",
    "                             np.nan, np.nan])\n",
    "            \n",
    "    elif open_position and \\\n",
    "        eqty_table[tf_1].loc[row, 'High'] >= stop_loss:\n",
    "            open_position = False\n",
    "            pos_type = 'Exit Sell'\n",
    "            position.append([row, pos_type, stop_loss, np.nan, np.nan])\n",
    "    \n",
    "    # Cálculo da Máxima Exposição Favorável e Máxima Exposição Desfavorável\n",
    "    "
   ]
  },
  {
   "cell_type": "code",
   "execution_count": 52,
   "metadata": {},
   "outputs": [
    {
     "data": {
      "text/html": [
       "<div>\n",
       "<style scoped>\n",
       "    .dataframe tbody tr th:only-of-type {\n",
       "        vertical-align: middle;\n",
       "    }\n",
       "\n",
       "    .dataframe tbody tr th {\n",
       "        vertical-align: top;\n",
       "    }\n",
       "\n",
       "    .dataframe thead th {\n",
       "        text-align: right;\n",
       "    }\n",
       "</style>\n",
       "<table border=\"1\" class=\"dataframe\">\n",
       "  <thead>\n",
       "    <tr style=\"text-align: right;\">\n",
       "      <th></th>\n",
       "      <th>Date</th>\n",
       "      <th>Open</th>\n",
       "      <th>High</th>\n",
       "      <th>Low</th>\n",
       "      <th>Close</th>\n",
       "      <th>TickVolume</th>\n",
       "      <th>Volume</th>\n",
       "      <th>Spread</th>\n",
       "      <th>Percent Change</th>\n",
       "      <th>CCI</th>\n",
       "      <th>Standard Deviation</th>\n",
       "      <th>Efficiency Ratio</th>\n",
       "      <th>Skewness</th>\n",
       "      <th>Index Higher Timeframe</th>\n",
       "    </tr>\n",
       "  </thead>\n",
       "  <tbody>\n",
       "    <tr>\n",
       "      <th>0</th>\n",
       "      <td>2015-01-02 10:05:00</td>\n",
       "      <td>8.53</td>\n",
       "      <td>8.53</td>\n",
       "      <td>8.46</td>\n",
       "      <td>8.47</td>\n",
       "      <td>545</td>\n",
       "      <td>515400</td>\n",
       "      <td>1</td>\n",
       "      <td>NaN</td>\n",
       "      <td>NaN</td>\n",
       "      <td>NaN</td>\n",
       "      <td>NaN</td>\n",
       "      <td>NaN</td>\n",
       "      <td>0</td>\n",
       "    </tr>\n",
       "    <tr>\n",
       "      <th>1</th>\n",
       "      <td>2015-01-02 10:10:00</td>\n",
       "      <td>8.47</td>\n",
       "      <td>8.48</td>\n",
       "      <td>8.44</td>\n",
       "      <td>8.47</td>\n",
       "      <td>238</td>\n",
       "      <td>334600</td>\n",
       "      <td>1</td>\n",
       "      <td>0.000000</td>\n",
       "      <td>NaN</td>\n",
       "      <td>NaN</td>\n",
       "      <td>NaN</td>\n",
       "      <td>NaN</td>\n",
       "      <td>1</td>\n",
       "    </tr>\n",
       "    <tr>\n",
       "      <th>2</th>\n",
       "      <td>2015-01-02 10:15:00</td>\n",
       "      <td>8.47</td>\n",
       "      <td>8.49</td>\n",
       "      <td>8.45</td>\n",
       "      <td>8.47</td>\n",
       "      <td>170</td>\n",
       "      <td>256500</td>\n",
       "      <td>1</td>\n",
       "      <td>0.000000</td>\n",
       "      <td>NaN</td>\n",
       "      <td>NaN</td>\n",
       "      <td>NaN</td>\n",
       "      <td>NaN</td>\n",
       "      <td>2</td>\n",
       "    </tr>\n",
       "    <tr>\n",
       "      <th>3</th>\n",
       "      <td>2015-01-02 10:20:00</td>\n",
       "      <td>8.47</td>\n",
       "      <td>8.51</td>\n",
       "      <td>8.47</td>\n",
       "      <td>8.50</td>\n",
       "      <td>226</td>\n",
       "      <td>322400</td>\n",
       "      <td>1</td>\n",
       "      <td>0.003542</td>\n",
       "      <td>NaN</td>\n",
       "      <td>NaN</td>\n",
       "      <td>NaN</td>\n",
       "      <td>NaN</td>\n",
       "      <td>3</td>\n",
       "    </tr>\n",
       "    <tr>\n",
       "      <th>4</th>\n",
       "      <td>2015-01-02 10:25:00</td>\n",
       "      <td>8.50</td>\n",
       "      <td>8.50</td>\n",
       "      <td>8.48</td>\n",
       "      <td>8.48</td>\n",
       "      <td>119</td>\n",
       "      <td>73700</td>\n",
       "      <td>1</td>\n",
       "      <td>-0.002353</td>\n",
       "      <td>NaN</td>\n",
       "      <td>NaN</td>\n",
       "      <td>NaN</td>\n",
       "      <td>NaN</td>\n",
       "      <td>4</td>\n",
       "    </tr>\n",
       "    <tr>\n",
       "      <th>...</th>\n",
       "      <td>...</td>\n",
       "      <td>...</td>\n",
       "      <td>...</td>\n",
       "      <td>...</td>\n",
       "      <td>...</td>\n",
       "      <td>...</td>\n",
       "      <td>...</td>\n",
       "      <td>...</td>\n",
       "      <td>...</td>\n",
       "      <td>...</td>\n",
       "      <td>...</td>\n",
       "      <td>...</td>\n",
       "      <td>...</td>\n",
       "      <td>...</td>\n",
       "    </tr>\n",
       "    <tr>\n",
       "      <th>156502</th>\n",
       "      <td>2021-12-30 17:30:00</td>\n",
       "      <td>28.47</td>\n",
       "      <td>28.49</td>\n",
       "      <td>28.44</td>\n",
       "      <td>28.46</td>\n",
       "      <td>768</td>\n",
       "      <td>485000</td>\n",
       "      <td>1</td>\n",
       "      <td>-0.000351</td>\n",
       "      <td>-147.582697</td>\n",
       "      <td>0.021746</td>\n",
       "      <td>0.500000</td>\n",
       "      <td>-0.318902</td>\n",
       "      <td>156502</td>\n",
       "    </tr>\n",
       "    <tr>\n",
       "      <th>156503</th>\n",
       "      <td>2021-12-30 17:35:00</td>\n",
       "      <td>28.45</td>\n",
       "      <td>28.48</td>\n",
       "      <td>28.43</td>\n",
       "      <td>28.46</td>\n",
       "      <td>796</td>\n",
       "      <td>712100</td>\n",
       "      <td>1</td>\n",
       "      <td>0.000000</td>\n",
       "      <td>-155.538099</td>\n",
       "      <td>0.021250</td>\n",
       "      <td>0.714286</td>\n",
       "      <td>-0.463057</td>\n",
       "      <td>156503</td>\n",
       "    </tr>\n",
       "    <tr>\n",
       "      <th>156504</th>\n",
       "      <td>2021-12-30 17:40:00</td>\n",
       "      <td>28.45</td>\n",
       "      <td>28.46</td>\n",
       "      <td>28.44</td>\n",
       "      <td>28.45</td>\n",
       "      <td>527</td>\n",
       "      <td>468800</td>\n",
       "      <td>1</td>\n",
       "      <td>-0.000351</td>\n",
       "      <td>-153.616704</td>\n",
       "      <td>0.023627</td>\n",
       "      <td>0.750000</td>\n",
       "      <td>-0.311012</td>\n",
       "      <td>156504</td>\n",
       "    </tr>\n",
       "    <tr>\n",
       "      <th>156505</th>\n",
       "      <td>2021-12-30 17:45:00</td>\n",
       "      <td>28.45</td>\n",
       "      <td>28.55</td>\n",
       "      <td>28.44</td>\n",
       "      <td>28.52</td>\n",
       "      <td>1023</td>\n",
       "      <td>1487900</td>\n",
       "      <td>1</td>\n",
       "      <td>0.002460</td>\n",
       "      <td>10.582011</td>\n",
       "      <td>0.024276</td>\n",
       "      <td>0.230769</td>\n",
       "      <td>-0.289653</td>\n",
       "      <td>156505</td>\n",
       "    </tr>\n",
       "    <tr>\n",
       "      <th>156506</th>\n",
       "      <td>2021-12-30 18:05:00</td>\n",
       "      <td>28.45</td>\n",
       "      <td>28.45</td>\n",
       "      <td>28.45</td>\n",
       "      <td>28.45</td>\n",
       "      <td>552</td>\n",
       "      <td>8365000</td>\n",
       "      <td>0</td>\n",
       "      <td>-0.002454</td>\n",
       "      <td>-136.815920</td>\n",
       "      <td>0.025157</td>\n",
       "      <td>0.263158</td>\n",
       "      <td>-0.099524</td>\n",
       "      <td>156506</td>\n",
       "    </tr>\n",
       "  </tbody>\n",
       "</table>\n",
       "<p>156507 rows × 14 columns</p>\n",
       "</div>"
      ],
      "text/plain": [
       "                      Date   Open   High    Low  Close  TickVolume   Volume  \\\n",
       "0      2015-01-02 10:05:00   8.53   8.53   8.46   8.47         545   515400   \n",
       "1      2015-01-02 10:10:00   8.47   8.48   8.44   8.47         238   334600   \n",
       "2      2015-01-02 10:15:00   8.47   8.49   8.45   8.47         170   256500   \n",
       "3      2015-01-02 10:20:00   8.47   8.51   8.47   8.50         226   322400   \n",
       "4      2015-01-02 10:25:00   8.50   8.50   8.48   8.48         119    73700   \n",
       "...                    ...    ...    ...    ...    ...         ...      ...   \n",
       "156502 2021-12-30 17:30:00  28.47  28.49  28.44  28.46         768   485000   \n",
       "156503 2021-12-30 17:35:00  28.45  28.48  28.43  28.46         796   712100   \n",
       "156504 2021-12-30 17:40:00  28.45  28.46  28.44  28.45         527   468800   \n",
       "156505 2021-12-30 17:45:00  28.45  28.55  28.44  28.52        1023  1487900   \n",
       "156506 2021-12-30 18:05:00  28.45  28.45  28.45  28.45         552  8365000   \n",
       "\n",
       "        Spread  Percent Change         CCI  Standard Deviation  \\\n",
       "0            1             NaN         NaN                 NaN   \n",
       "1            1        0.000000         NaN                 NaN   \n",
       "2            1        0.000000         NaN                 NaN   \n",
       "3            1        0.003542         NaN                 NaN   \n",
       "4            1       -0.002353         NaN                 NaN   \n",
       "...        ...             ...         ...                 ...   \n",
       "156502       1       -0.000351 -147.582697            0.021746   \n",
       "156503       1        0.000000 -155.538099            0.021250   \n",
       "156504       1       -0.000351 -153.616704            0.023627   \n",
       "156505       1        0.002460   10.582011            0.024276   \n",
       "156506       0       -0.002454 -136.815920            0.025157   \n",
       "\n",
       "        Efficiency Ratio  Skewness  Index Higher Timeframe  \n",
       "0                    NaN       NaN                       0  \n",
       "1                    NaN       NaN                       1  \n",
       "2                    NaN       NaN                       2  \n",
       "3                    NaN       NaN                       3  \n",
       "4                    NaN       NaN                       4  \n",
       "...                  ...       ...                     ...  \n",
       "156502          0.500000 -0.318902                  156502  \n",
       "156503          0.714286 -0.463057                  156503  \n",
       "156504          0.750000 -0.311012                  156504  \n",
       "156505          0.230769 -0.289653                  156505  \n",
       "156506          0.263158 -0.099524                  156506  \n",
       "\n",
       "[156507 rows x 14 columns]"
      ]
     },
     "execution_count": 52,
     "metadata": {},
     "output_type": "execute_result"
    }
   ],
   "source": [
    "eqty_table[tf_1]"
   ]
  },
  {
   "cell_type": "markdown",
   "metadata": {},
   "source": [
    "Cálculo do retorno."
   ]
  },
  {
   "cell_type": "code",
   "execution_count": 53,
   "metadata": {},
   "outputs": [],
   "source": [
    "df = pd.DataFrame(position, columns=['Index', 'Position Type', 'Position', \n",
    "                                     'Standard Deviation', 'Stop Loss'])"
   ]
  },
  {
   "cell_type": "code",
   "execution_count": 54,
   "metadata": {},
   "outputs": [
    {
     "data": {
      "text/html": [
       "<div>\n",
       "<style scoped>\n",
       "    .dataframe tbody tr th:only-of-type {\n",
       "        vertical-align: middle;\n",
       "    }\n",
       "\n",
       "    .dataframe tbody tr th {\n",
       "        vertical-align: top;\n",
       "    }\n",
       "\n",
       "    .dataframe thead th {\n",
       "        text-align: right;\n",
       "    }\n",
       "</style>\n",
       "<table border=\"1\" class=\"dataframe\">\n",
       "  <thead>\n",
       "    <tr style=\"text-align: right;\">\n",
       "      <th></th>\n",
       "      <th>Index</th>\n",
       "      <th>Position Type</th>\n",
       "      <th>Position</th>\n",
       "      <th>Standard Deviation</th>\n",
       "      <th>Stop Loss</th>\n",
       "    </tr>\n",
       "  </thead>\n",
       "  <tbody>\n",
       "    <tr>\n",
       "      <th>0</th>\n",
       "      <td>752</td>\n",
       "      <td>Sell</td>\n",
       "      <td>7.50</td>\n",
       "      <td>0.028095</td>\n",
       "      <td>12.49</td>\n",
       "    </tr>\n",
       "    <tr>\n",
       "      <th>1</th>\n",
       "      <td>766</td>\n",
       "      <td>Exit Sell</td>\n",
       "      <td>7.50</td>\n",
       "      <td>NaN</td>\n",
       "      <td>NaN</td>\n",
       "    </tr>\n",
       "    <tr>\n",
       "      <th>2</th>\n",
       "      <td>900</td>\n",
       "      <td>Sell</td>\n",
       "      <td>7.90</td>\n",
       "      <td>0.051880</td>\n",
       "      <td>12.90</td>\n",
       "    </tr>\n",
       "    <tr>\n",
       "      <th>3</th>\n",
       "      <td>915</td>\n",
       "      <td>Exit Sell</td>\n",
       "      <td>8.08</td>\n",
       "      <td>NaN</td>\n",
       "      <td>NaN</td>\n",
       "    </tr>\n",
       "    <tr>\n",
       "      <th>4</th>\n",
       "      <td>1053</td>\n",
       "      <td>Sell</td>\n",
       "      <td>8.03</td>\n",
       "      <td>0.026128</td>\n",
       "      <td>13.04</td>\n",
       "    </tr>\n",
       "    <tr>\n",
       "      <th>...</th>\n",
       "      <td>...</td>\n",
       "      <td>...</td>\n",
       "      <td>...</td>\n",
       "      <td>...</td>\n",
       "      <td>...</td>\n",
       "    </tr>\n",
       "    <tr>\n",
       "      <th>805</th>\n",
       "      <td>155590</td>\n",
       "      <td>Exit Sell</td>\n",
       "      <td>29.70</td>\n",
       "      <td>NaN</td>\n",
       "      <td>NaN</td>\n",
       "    </tr>\n",
       "    <tr>\n",
       "      <th>806</th>\n",
       "      <td>156112</td>\n",
       "      <td>Sell</td>\n",
       "      <td>28.29</td>\n",
       "      <td>0.017308</td>\n",
       "      <td>33.30</td>\n",
       "    </tr>\n",
       "    <tr>\n",
       "      <th>807</th>\n",
       "      <td>156116</td>\n",
       "      <td>Exit Sell</td>\n",
       "      <td>28.38</td>\n",
       "      <td>NaN</td>\n",
       "      <td>NaN</td>\n",
       "    </tr>\n",
       "    <tr>\n",
       "      <th>808</th>\n",
       "      <td>156121</td>\n",
       "      <td>Sell</td>\n",
       "      <td>28.31</td>\n",
       "      <td>0.023343</td>\n",
       "      <td>33.30</td>\n",
       "    </tr>\n",
       "    <tr>\n",
       "      <th>809</th>\n",
       "      <td>156126</td>\n",
       "      <td>Exit Sell</td>\n",
       "      <td>28.30</td>\n",
       "      <td>NaN</td>\n",
       "      <td>NaN</td>\n",
       "    </tr>\n",
       "  </tbody>\n",
       "</table>\n",
       "<p>810 rows × 5 columns</p>\n",
       "</div>"
      ],
      "text/plain": [
       "      Index Position Type  Position  Standard Deviation  Stop Loss\n",
       "0       752          Sell      7.50            0.028095      12.49\n",
       "1       766     Exit Sell      7.50                 NaN        NaN\n",
       "2       900          Sell      7.90            0.051880      12.90\n",
       "3       915     Exit Sell      8.08                 NaN        NaN\n",
       "4      1053          Sell      8.03            0.026128      13.04\n",
       "..      ...           ...       ...                 ...        ...\n",
       "805  155590     Exit Sell     29.70                 NaN        NaN\n",
       "806  156112          Sell     28.29            0.017308      33.30\n",
       "807  156116     Exit Sell     28.38                 NaN        NaN\n",
       "808  156121          Sell     28.31            0.023343      33.30\n",
       "809  156126     Exit Sell     28.30                 NaN        NaN\n",
       "\n",
       "[810 rows x 5 columns]"
      ]
     },
     "execution_count": 54,
     "metadata": {},
     "output_type": "execute_result"
    }
   ],
   "source": [
    "df"
   ]
  },
  {
   "cell_type": "code",
   "execution_count": 55,
   "metadata": {},
   "outputs": [],
   "source": [
    "df2 = df.iloc[::2] \n",
    "df2.reset_index(inplace=True, drop=True)"
   ]
  },
  {
   "cell_type": "code",
   "execution_count": 56,
   "metadata": {},
   "outputs": [
    {
     "name": "stderr",
     "output_type": "stream",
     "text": [
      "C:\\ProgramData\\Anaconda3\\lib\\site-packages\\pandas\\core\\frame.py:5039: SettingWithCopyWarning: \n",
      "A value is trying to be set on a copy of a slice from a DataFrame\n",
      "\n",
      "See the caveats in the documentation: https://pandas.pydata.org/pandas-docs/stable/user_guide/indexing.html#returning-a-view-versus-a-copy\n",
      "  return super().rename(\n"
     ]
    }
   ],
   "source": [
    "df3 = df.iloc[1::2]\n",
    "df3.reset_index(inplace=True, drop=True)\n",
    "df3.rename(columns={'Position': 'Position Exit', \n",
    "                    'Position Type': 'Position Type Exit',\n",
    "                    'Standard Deviation': 'Standard Deviation Exit',\n",
    "                    'Stop Loss': 'Stop Loss Exit'}, inplace=True)"
   ]
  },
  {
   "cell_type": "code",
   "execution_count": 57,
   "metadata": {},
   "outputs": [
    {
     "data": {
      "text/html": [
       "<div>\n",
       "<style scoped>\n",
       "    .dataframe tbody tr th:only-of-type {\n",
       "        vertical-align: middle;\n",
       "    }\n",
       "\n",
       "    .dataframe tbody tr th {\n",
       "        vertical-align: top;\n",
       "    }\n",
       "\n",
       "    .dataframe thead th {\n",
       "        text-align: right;\n",
       "    }\n",
       "</style>\n",
       "<table border=\"1\" class=\"dataframe\">\n",
       "  <thead>\n",
       "    <tr style=\"text-align: right;\">\n",
       "      <th></th>\n",
       "      <th>Index</th>\n",
       "      <th>Position Type</th>\n",
       "      <th>Position</th>\n",
       "      <th>Standard Deviation</th>\n",
       "      <th>Stop Loss</th>\n",
       "      <th>Index</th>\n",
       "      <th>Position Type Exit</th>\n",
       "      <th>Position Exit</th>\n",
       "      <th>Standard Deviation Exit</th>\n",
       "      <th>Stop Loss Exit</th>\n",
       "    </tr>\n",
       "  </thead>\n",
       "  <tbody>\n",
       "    <tr>\n",
       "      <th>0</th>\n",
       "      <td>752</td>\n",
       "      <td>Sell</td>\n",
       "      <td>7.50</td>\n",
       "      <td>0.028095</td>\n",
       "      <td>12.49</td>\n",
       "      <td>766</td>\n",
       "      <td>Exit Sell</td>\n",
       "      <td>7.50</td>\n",
       "      <td>NaN</td>\n",
       "      <td>NaN</td>\n",
       "    </tr>\n",
       "    <tr>\n",
       "      <th>1</th>\n",
       "      <td>900</td>\n",
       "      <td>Sell</td>\n",
       "      <td>7.90</td>\n",
       "      <td>0.051880</td>\n",
       "      <td>12.90</td>\n",
       "      <td>915</td>\n",
       "      <td>Exit Sell</td>\n",
       "      <td>8.08</td>\n",
       "      <td>NaN</td>\n",
       "      <td>NaN</td>\n",
       "    </tr>\n",
       "    <tr>\n",
       "      <th>2</th>\n",
       "      <td>1053</td>\n",
       "      <td>Sell</td>\n",
       "      <td>8.03</td>\n",
       "      <td>0.026128</td>\n",
       "      <td>13.04</td>\n",
       "      <td>1055</td>\n",
       "      <td>Exit Sell</td>\n",
       "      <td>8.00</td>\n",
       "      <td>NaN</td>\n",
       "      <td>NaN</td>\n",
       "    </tr>\n",
       "    <tr>\n",
       "      <th>3</th>\n",
       "      <td>1407</td>\n",
       "      <td>Sell</td>\n",
       "      <td>8.67</td>\n",
       "      <td>0.019732</td>\n",
       "      <td>13.67</td>\n",
       "      <td>1413</td>\n",
       "      <td>Exit Sell</td>\n",
       "      <td>8.65</td>\n",
       "      <td>NaN</td>\n",
       "      <td>NaN</td>\n",
       "    </tr>\n",
       "    <tr>\n",
       "      <th>4</th>\n",
       "      <td>1517</td>\n",
       "      <td>Sell</td>\n",
       "      <td>8.43</td>\n",
       "      <td>0.022804</td>\n",
       "      <td>13.40</td>\n",
       "      <td>1520</td>\n",
       "      <td>Exit Sell</td>\n",
       "      <td>8.39</td>\n",
       "      <td>NaN</td>\n",
       "      <td>NaN</td>\n",
       "    </tr>\n",
       "    <tr>\n",
       "      <th>...</th>\n",
       "      <td>...</td>\n",
       "      <td>...</td>\n",
       "      <td>...</td>\n",
       "      <td>...</td>\n",
       "      <td>...</td>\n",
       "      <td>...</td>\n",
       "      <td>...</td>\n",
       "      <td>...</td>\n",
       "      <td>...</td>\n",
       "      <td>...</td>\n",
       "    </tr>\n",
       "    <tr>\n",
       "      <th>400</th>\n",
       "      <td>155533</td>\n",
       "      <td>Sell</td>\n",
       "      <td>29.06</td>\n",
       "      <td>0.069012</td>\n",
       "      <td>34.06</td>\n",
       "      <td>155539</td>\n",
       "      <td>Exit Sell</td>\n",
       "      <td>29.00</td>\n",
       "      <td>NaN</td>\n",
       "      <td>NaN</td>\n",
       "    </tr>\n",
       "    <tr>\n",
       "      <th>401</th>\n",
       "      <td>155570</td>\n",
       "      <td>Sell</td>\n",
       "      <td>29.68</td>\n",
       "      <td>0.076058</td>\n",
       "      <td>34.68</td>\n",
       "      <td>155572</td>\n",
       "      <td>Exit Sell</td>\n",
       "      <td>29.92</td>\n",
       "      <td>NaN</td>\n",
       "      <td>NaN</td>\n",
       "    </tr>\n",
       "    <tr>\n",
       "      <th>402</th>\n",
       "      <td>155577</td>\n",
       "      <td>Sell</td>\n",
       "      <td>29.64</td>\n",
       "      <td>0.095754</td>\n",
       "      <td>34.64</td>\n",
       "      <td>155590</td>\n",
       "      <td>Exit Sell</td>\n",
       "      <td>29.70</td>\n",
       "      <td>NaN</td>\n",
       "      <td>NaN</td>\n",
       "    </tr>\n",
       "    <tr>\n",
       "      <th>403</th>\n",
       "      <td>156112</td>\n",
       "      <td>Sell</td>\n",
       "      <td>28.29</td>\n",
       "      <td>0.017308</td>\n",
       "      <td>33.30</td>\n",
       "      <td>156116</td>\n",
       "      <td>Exit Sell</td>\n",
       "      <td>28.38</td>\n",
       "      <td>NaN</td>\n",
       "      <td>NaN</td>\n",
       "    </tr>\n",
       "    <tr>\n",
       "      <th>404</th>\n",
       "      <td>156121</td>\n",
       "      <td>Sell</td>\n",
       "      <td>28.31</td>\n",
       "      <td>0.023343</td>\n",
       "      <td>33.30</td>\n",
       "      <td>156126</td>\n",
       "      <td>Exit Sell</td>\n",
       "      <td>28.30</td>\n",
       "      <td>NaN</td>\n",
       "      <td>NaN</td>\n",
       "    </tr>\n",
       "  </tbody>\n",
       "</table>\n",
       "<p>405 rows × 10 columns</p>\n",
       "</div>"
      ],
      "text/plain": [
       "      Index Position Type  Position  Standard Deviation  Stop Loss   Index  \\\n",
       "0       752          Sell      7.50            0.028095      12.49     766   \n",
       "1       900          Sell      7.90            0.051880      12.90     915   \n",
       "2      1053          Sell      8.03            0.026128      13.04    1055   \n",
       "3      1407          Sell      8.67            0.019732      13.67    1413   \n",
       "4      1517          Sell      8.43            0.022804      13.40    1520   \n",
       "..      ...           ...       ...                 ...        ...     ...   \n",
       "400  155533          Sell     29.06            0.069012      34.06  155539   \n",
       "401  155570          Sell     29.68            0.076058      34.68  155572   \n",
       "402  155577          Sell     29.64            0.095754      34.64  155590   \n",
       "403  156112          Sell     28.29            0.017308      33.30  156116   \n",
       "404  156121          Sell     28.31            0.023343      33.30  156126   \n",
       "\n",
       "    Position Type Exit  Position Exit  Standard Deviation Exit  Stop Loss Exit  \n",
       "0            Exit Sell           7.50                      NaN             NaN  \n",
       "1            Exit Sell           8.08                      NaN             NaN  \n",
       "2            Exit Sell           8.00                      NaN             NaN  \n",
       "3            Exit Sell           8.65                      NaN             NaN  \n",
       "4            Exit Sell           8.39                      NaN             NaN  \n",
       "..                 ...            ...                      ...             ...  \n",
       "400          Exit Sell          29.00                      NaN             NaN  \n",
       "401          Exit Sell          29.92                      NaN             NaN  \n",
       "402          Exit Sell          29.70                      NaN             NaN  \n",
       "403          Exit Sell          28.38                      NaN             NaN  \n",
       "404          Exit Sell          28.30                      NaN             NaN  \n",
       "\n",
       "[405 rows x 10 columns]"
      ]
     },
     "execution_count": 57,
     "metadata": {},
     "output_type": "execute_result"
    }
   ],
   "source": [
    "df = pd.concat([df2, df3], axis=1)\n",
    "df"
   ]
  },
  {
   "cell_type": "code",
   "execution_count": 58,
   "metadata": {},
   "outputs": [],
   "source": [
    "points = []\n",
    "for row in df.index:\n",
    "    if df.loc[row, 'Position Type'] == 'Buy':\n",
    "        points = np.append(points, df.loc[row, 'Position Exit'] - df.loc[row, 'Position'])\n",
    "    else:\n",
    "        points = np.append(points, [df.loc[row, 'Position'] - df.loc[row, 'Position Exit']])"
   ]
  },
  {
   "cell_type": "code",
   "execution_count": 59,
   "metadata": {},
   "outputs": [],
   "source": [
    "stds = df['Standard Deviation']"
   ]
  },
  {
   "cell_type": "code",
   "execution_count": 60,
   "metadata": {},
   "outputs": [],
   "source": [
    "r = points / stds"
   ]
  },
  {
   "cell_type": "code",
   "execution_count": 61,
   "metadata": {},
   "outputs": [],
   "source": [
    "r.dropna(inplace=True)"
   ]
  },
  {
   "cell_type": "code",
   "execution_count": 62,
   "metadata": {},
   "outputs": [
    {
     "data": {
      "text/plain": [
       "0      0.000000\n",
       "1     -3.469531\n",
       "2      1.148198\n",
       "3      1.013606\n",
       "4      1.754116\n",
       "         ...   \n",
       "400    0.869413\n",
       "401   -3.155468\n",
       "402   -0.626604\n",
       "403   -5.200006\n",
       "404    0.428397\n",
       "Name: Standard Deviation, Length: 405, dtype: float64"
      ]
     },
     "execution_count": 62,
     "metadata": {},
     "output_type": "execute_result"
    }
   ],
   "source": [
    "r"
   ]
  },
  {
   "cell_type": "markdown",
   "metadata": {},
   "source": [
    "Estatísticas do retorno"
   ]
  },
  {
   "cell_type": "code",
   "execution_count": 63,
   "metadata": {},
   "outputs": [
    {
     "name": "stdout",
     "output_type": "stream",
     "text": [
      "9\n",
      "6\n",
      "73.5911899145998\n"
     ]
    }
   ],
   "source": [
    "last_value = 0\n",
    "win_stk = 0\n",
    "loss_stk = 0\n",
    "pos_stk = 0\n",
    "neg_stk = 0\n",
    "max_sum_r = 0\n",
    "sum_ant = 0\n",
    "dd = []\n",
    "for value in r:\n",
    "    if value >= 0 and last_value >= 0:\n",
    "        win_stk += 1\n",
    "        if win_stk > pos_stk:\n",
    "            pos_stk = win_stk\n",
    "    elif value < 0 and last_value <= 0:\n",
    "        loss_stk += 1\n",
    "        if loss_stk > neg_stk:\n",
    "            neg_stk = loss_stk\n",
    "    else:\n",
    "        win_stk = 1\n",
    "        loss_stk = 1\n",
    "    \n",
    "    last_value = value\n",
    "    \n",
    "    sum_r = sum_ant + value\n",
    "    sum_ant = sum_r\n",
    "    if max_sum_r < sum_r:\n",
    "        max_sum_r = sum_r\n",
    "    dd.append(sum_r - max_sum_r)\n",
    "    \n",
    "print(pos_stk)\n",
    "print(neg_stk)\n",
    "print(abs(min(dd)))   "
   ]
  },
  {
   "cell_type": "code",
   "execution_count": 64,
   "metadata": {},
   "outputs": [
    {
     "data": {
      "text/plain": [
       "-32.97395411495894"
      ]
     },
     "execution_count": 64,
     "metadata": {},
     "output_type": "execute_result"
    }
   ],
   "source": [
    "sum(r)"
   ]
  },
  {
   "cell_type": "code",
   "execution_count": 65,
   "metadata": {},
   "outputs": [
    {
     "data": {
      "text/plain": [
       "DescribeResult(nobs=405, minmax=(-15.732132722552526, 9.749005254295161), mean=-0.08141717065421954, variance=7.835954585266805, skewness=-1.3129934013137112, kurtosis=6.404832927011192)"
      ]
     },
     "execution_count": 65,
     "metadata": {},
     "output_type": "execute_result"
    }
   ],
   "source": [
    "stats.describe(r)"
   ]
  },
  {
   "cell_type": "code",
   "execution_count": 66,
   "metadata": {},
   "outputs": [
    {
     "data": {
      "text/plain": [
       "DescribeResult(nobs=399, minmax=(-8.28868445993311, 8.088897765598956), mean=0.059782334067232774, variance=5.4137044367058165, skewness=-0.14356696966315677, kurtosis=0.4270315814751928)"
      ]
     },
     "execution_count": 66,
     "metadata": {},
     "output_type": "execute_result"
    }
   ],
   "source": [
    "z_scores = stats.zscore(r)\n",
    "abs_z_scores = np.abs(z_scores)\n",
    "filtered_r = r[abs_z_scores < 3]\n",
    "stats.describe(filtered_r)"
   ]
  },
  {
   "cell_type": "code",
   "execution_count": 67,
   "metadata": {},
   "outputs": [
    {
     "data": {
      "text/plain": [
       "23.853151292825892"
      ]
     },
     "execution_count": 67,
     "metadata": {},
     "output_type": "execute_result"
    }
   ],
   "source": [
    "sum(filtered_r)"
   ]
  },
  {
   "cell_type": "code",
   "execution_count": 68,
   "metadata": {},
   "outputs": [],
   "source": [
    "strategy_data = {\n",
    "    'tf_1': tf_1,\n",
    "    'tf_2': tf_2,\n",
    "    'cci_period': cci_period,\n",
    "    'std_dev_period': std_dev_period,\n",
    "    'er_period': er_period,\n",
    "    'skew_period': skew_period,\n",
    "    'shift': shift,\n",
    "    'er_1': er_1,\n",
    "    'er_2': er_2,\n",
    "}\n",
    "filename = f'{strategy_name}_specs.txt'\n",
    "with open(filename, 'w') as f:\n",
    "    f.write(str(strategy_data))"
   ]
  }
 ],
 "metadata": {
  "interpreter": {
   "hash": "b3ba2566441a7c06988d0923437866b63cedc61552a5af99d1f4fb67d367b25f"
  },
  "kernelspec": {
   "display_name": "Python 3.9.7 64-bit ('base': conda)",
   "language": "python",
   "name": "python3"
  },
  "language_info": {
   "codemirror_mode": {
    "name": "ipython",
    "version": 3
   },
   "file_extension": ".py",
   "mimetype": "text/x-python",
   "name": "python",
   "nbconvert_exporter": "python",
   "pygments_lexer": "ipython3",
   "version": "3.9.7"
  },
  "orig_nbformat": 4
 },
 "nbformat": 4,
 "nbformat_minor": 2
}
