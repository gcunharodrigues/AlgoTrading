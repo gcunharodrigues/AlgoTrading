{
 "cells": [
  {
   "cell_type": "markdown",
   "metadata": {},
   "source": [
    "Importando libraries"
   ]
  },
  {
   "cell_type": "code",
   "execution_count": 1,
   "metadata": {},
   "outputs": [],
   "source": [
    "import pandas as pd\n",
    "import numpy as np\n",
    "import talib\n",
    "from funcoes_preco import organize_data, get_efficiency_ratio, get_stats\n",
    "import dwx_query\n",
    "from datetime import datetime, timedelta"
   ]
  },
  {
   "cell_type": "markdown",
   "metadata": {},
   "source": [
    "Dados de entrada"
   ]
  },
  {
   "cell_type": "code",
   "execution_count": 2,
   "metadata": {},
   "outputs": [],
   "source": [
    "files_dir = 'C:/Users/guicr/AppData/Roaming/MetaQuotes/Terminal/'\\\n",
    "            'D0E8209F77C8CF37AD8BF550E51FF075/MQL5/Files/'\n",
    "symbol = 'Bra50Feb22'\n",
    "timeframes = ['M1', 'M5', 'M15']\n",
    "start = datetime(2022, 1, 1).timestamp()\n",
    "end = datetime(2022, 1, 29).timestamp()"
   ]
  },
  {
   "cell_type": "markdown",
   "metadata": {},
   "source": [
    "Gravando dados recebidos em um dicionário"
   ]
  },
  {
   "cell_type": "code",
   "execution_count": 3,
   "metadata": {},
   "outputs": [
    {
     "name": "stdout",
     "output_type": "stream",
     "text": [
      "Bra50Feb22_M1\n",
      "historic_data: Bra50Feb22 M1 11280 bars\n",
      "Bra50Feb22_M5\n",
      "historic_data: Bra50Feb22 M5 2260 bars\n",
      "Bra50Feb22_M15\n",
      "historic_data: Bra50Feb22 M15 760 bars\n"
     ]
    }
   ],
   "source": [
    "data = {timeframe: dwx_query.inform_historic_data(files_dir, symbol, timeframe, \n",
    "                                                  start, end) \n",
    "        for timeframe in timeframes}"
   ]
  },
  {
   "cell_type": "markdown",
   "metadata": {},
   "source": [
    "Enviando os dados para dataframes"
   ]
  },
  {
   "cell_type": "code",
   "execution_count": 4,
   "metadata": {},
   "outputs": [],
   "source": [
    "symbol_data = {timeframe: pd.DataFrame(data[timeframe], \n",
    "                                       columns=['Date', 'Open', 'High', 'Low', \n",
    "                                                'Close', 'Tick Volume', \n",
    "                                                'Real Volume'])\n",
    "               for timeframe in timeframes}"
   ]
  },
  {
   "cell_type": "markdown",
   "metadata": {},
   "source": [
    "Copiando os dataframes para uma variável de manipulação"
   ]
  },
  {
   "cell_type": "code",
   "execution_count": 5,
   "metadata": {},
   "outputs": [],
   "source": [
    "eqty_table = symbol_data.copy()"
   ]
  },
  {
   "cell_type": "markdown",
   "metadata": {},
   "source": [
    "Calculando o retorno barra a barra"
   ]
  },
  {
   "cell_type": "code",
   "execution_count": 6,
   "metadata": {},
   "outputs": [],
   "source": [
    "pct_change = {timeframe: eqty_table[timeframe]['Close'].pct_change() \n",
    "              for timeframe in timeframes}\n",
    "for timeframe in timeframes:\n",
    "    eqty_table[timeframe]['Percent Change'] = pct_change[timeframe]"
   ]
  },
  {
   "cell_type": "markdown",
   "metadata": {},
   "source": [
    "Triggers"
   ]
  },
  {
   "cell_type": "code",
   "execution_count": 7,
   "metadata": {},
   "outputs": [],
   "source": [
    "cci_period = 20\n",
    "cci = talib.CCI(eqty_table['M5']['High'], eqty_table['M5']['Low'], \n",
    "                eqty_table['M5']['Close'], timeperiod=cci_period)\n",
    "eqty_table['M5']['CCI'] = cci"
   ]
  },
  {
   "cell_type": "code",
   "execution_count": 8,
   "metadata": {},
   "outputs": [],
   "source": [
    "std_dev_period = 15\n",
    "std_dev = get_stats(eqty_table['M5']['Close'], std_dev_period)['std']\n",
    "eqty_table['M5']['Standard Deviation'] = std_dev"
   ]
  },
  {
   "cell_type": "markdown",
   "metadata": {},
   "source": [
    "Filters"
   ]
  },
  {
   "cell_type": "code",
   "execution_count": 9,
   "metadata": {},
   "outputs": [],
   "source": [
    "er_period = 8\n",
    "efficiency_ratio = get_efficiency_ratio(eqty_table['M15']['Close'], \n",
    "                                        timeperiod=er_period)\n",
    "eqty_table['M15']['Efficiency Ratio'] = efficiency_ratio['efficiency_ratio']\n"
   ]
  },
  {
   "cell_type": "code",
   "execution_count": 10,
   "metadata": {},
   "outputs": [],
   "source": [
    "skew_period = 15\n",
    "skewness = get_stats(eqty_table['M15']['Close'], skew_period)['skewness']\n",
    "eqty_table['M15']['Skewness'] = skewness"
   ]
  }
 ],
 "metadata": {
  "interpreter": {
   "hash": "b3ba2566441a7c06988d0923437866b63cedc61552a5af99d1f4fb67d367b25f"
  },
  "kernelspec": {
   "display_name": "Python 3.9.7 64-bit ('base': conda)",
   "language": "python",
   "name": "python3"
  },
  "language_info": {
   "codemirror_mode": {
    "name": "ipython",
    "version": 3
   },
   "file_extension": ".py",
   "mimetype": "text/x-python",
   "name": "python",
   "nbconvert_exporter": "python",
   "pygments_lexer": "ipython3",
   "version": "3.9.7"
  },
  "orig_nbformat": 4
 },
 "nbformat": 4,
 "nbformat_minor": 2
}
