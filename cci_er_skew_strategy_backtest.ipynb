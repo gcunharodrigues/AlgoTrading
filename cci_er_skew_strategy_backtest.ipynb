{
 "cells": [
  {
   "cell_type": "markdown",
   "metadata": {},
   "source": [
    "Importando libraries"
   ]
  },
  {
   "cell_type": "code",
   "execution_count": 60,
   "metadata": {},
   "outputs": [],
   "source": [
    "import pandas as pd\n",
    "import numpy as np\n",
    "import talib\n",
    "from funcoes_preco import organize_data, get_efficiency_ratio, get_stats\n",
    "import dwx_query\n",
    "from datetime import datetime, timedelta\n",
    "from bisect import bisect_right"
   ]
  },
  {
   "cell_type": "markdown",
   "metadata": {},
   "source": [
    "Dados de entrada"
   ]
  },
  {
   "cell_type": "code",
   "execution_count": 61,
   "metadata": {},
   "outputs": [],
   "source": [
    "files_dir = 'C:/Users/guicr/AppData/Roaming/MetaQuotes/Terminal/'\\\n",
    "            'D0E8209F77C8CF37AD8BF550E51FF075/MQL5/Files/'\n",
    "symbol = 'Bra50Feb22'\n",
    "timeframes = ['M5', 'M15']\n",
    "start = datetime(2020, 1, 1).timestamp()\n",
    "end = datetime(2020, 6, 30).timestamp()"
   ]
  },
  {
   "cell_type": "markdown",
   "metadata": {},
   "source": [
    "Gravando dados recebidos em um dicionário"
   ]
  },
  {
   "cell_type": "code",
   "execution_count": 62,
   "metadata": {},
   "outputs": [
    {
     "name": "stdout",
     "output_type": "stream",
     "text": [
      "Bra50Feb22_M5\n",
      "historic_data: Bra50Feb22 M5 12761 bars\n",
      "Bra50Feb22_M15\n",
      "historic_data: Bra50Feb22 M15 4319 bars\n"
     ]
    }
   ],
   "source": [
    "data = {timeframe: dwx_query.inform_historic_data(files_dir, symbol, timeframe, \n",
    "                                                  start, end) \n",
    "        for timeframe in timeframes}"
   ]
  },
  {
   "cell_type": "markdown",
   "metadata": {},
   "source": [
    "Enviando os dados para dataframes"
   ]
  },
  {
   "cell_type": "code",
   "execution_count": 63,
   "metadata": {},
   "outputs": [],
   "source": [
    "symbol_data = {timeframe: pd.DataFrame(data[timeframe], \n",
    "                                       columns=['Date', 'Open', 'High', 'Low', \n",
    "                                                'Close', 'Tick Volume', \n",
    "                                                'Real Volume'])\n",
    "               for timeframe in timeframes}"
   ]
  },
  {
   "cell_type": "markdown",
   "metadata": {},
   "source": [
    "Copiando os dataframes para uma variável de manipulação"
   ]
  },
  {
   "cell_type": "code",
   "execution_count": 64,
   "metadata": {},
   "outputs": [],
   "source": [
    "eqty_table = symbol_data.copy()"
   ]
  },
  {
   "cell_type": "markdown",
   "metadata": {},
   "source": [
    "Calculando o retorno barra a barra"
   ]
  },
  {
   "cell_type": "code",
   "execution_count": 65,
   "metadata": {},
   "outputs": [],
   "source": [
    "pct_change = {timeframe: eqty_table[timeframe]['Close'].pct_change() \n",
    "              for timeframe in timeframes}\n",
    "for timeframe in timeframes:\n",
    "    eqty_table[timeframe]['Percent Change'] = pct_change[timeframe]"
   ]
  },
  {
   "cell_type": "markdown",
   "metadata": {},
   "source": [
    "Triggers"
   ]
  },
  {
   "cell_type": "code",
   "execution_count": 66,
   "metadata": {},
   "outputs": [],
   "source": [
    "cci_period = 20\n",
    "cci = talib.CCI(eqty_table['M5']['High'], eqty_table['M5']['Low'], \n",
    "                eqty_table['M5']['Close'], timeperiod=cci_period)\n",
    "eqty_table['M5']['CCI'] = cci"
   ]
  },
  {
   "cell_type": "code",
   "execution_count": 67,
   "metadata": {},
   "outputs": [],
   "source": [
    "std_dev_period = 15\n",
    "std_dev = get_stats(eqty_table['M5']['Close'], std_dev_period)['std']\n",
    "eqty_table['M5']['Standard Deviation'] = std_dev"
   ]
  },
  {
   "cell_type": "markdown",
   "metadata": {},
   "source": [
    "Filters"
   ]
  },
  {
   "cell_type": "code",
   "execution_count": 68,
   "metadata": {},
   "outputs": [],
   "source": [
    "er_period = 5\n",
    "efficiency_ratio = get_efficiency_ratio(eqty_table['M15']['Close'], \n",
    "                                        timeperiod=er_period)\n",
    "eqty_table['M15']['Efficiency Ratio'] = efficiency_ratio['efficiency_ratio']\n"
   ]
  },
  {
   "cell_type": "code",
   "execution_count": 69,
   "metadata": {},
   "outputs": [],
   "source": [
    "skew_period = 15\n",
    "skewness = get_stats(eqty_table['M15']['Close'], skew_period)['skewness']\n",
    "eqty_table['M15']['Skewness'] = skewness"
   ]
  },
  {
   "cell_type": "markdown",
   "metadata": {},
   "source": [
    "Preparação do Dataframe para receber as informações de trade.\n",
    "Integração entre o Timeframe maior com o menor."
   ]
  },
  {
   "cell_type": "markdown",
   "metadata": {},
   "source": [
    "Mudar o tipo da coluna 'Date' para datetime."
   ]
  },
  {
   "cell_type": "code",
   "execution_count": 70,
   "metadata": {},
   "outputs": [],
   "source": [
    "for timeframe in timeframes:\n",
    "    eqty_table[timeframe]['Date'] = pd.to_datetime(eqty_table[timeframe]['Date'])"
   ]
  },
  {
   "cell_type": "markdown",
   "metadata": {},
   "source": [
    "Colocando um marcador para identificar a correspondência entre o Timeframe \n",
    "maior e o menor."
   ]
  },
  {
   "cell_type": "code",
   "execution_count": 71,
   "metadata": {},
   "outputs": [],
   "source": [
    "lwr_timeframe_table = eqty_table['M5'].copy()\n",
    "hgr_timeframe_table = eqty_table['M15'].copy()"
   ]
  },
  {
   "cell_type": "code",
   "execution_count": 72,
   "metadata": {},
   "outputs": [],
   "source": [
    "index_higher_timeframe = []\n",
    "for row_lwr_timeframe in lwr_timeframe_table.index:\n",
    "    index = bisect_right(hgr_timeframe_table['Date'], \n",
    "                         lwr_timeframe_table.loc[row_lwr_timeframe, 'Date'])\n",
    "    index_higher_timeframe.append(index-1)"
   ]
  },
  {
   "cell_type": "code",
   "execution_count": 73,
   "metadata": {},
   "outputs": [],
   "source": [
    "eqty_table['M5']['Index Higher Timeframe'] = index_higher_timeframe"
   ]
  },
  {
   "cell_type": "markdown",
   "metadata": {},
   "source": [
    "Configuração dos sinais de compra e venda."
   ]
  },
  {
   "cell_type": "code",
   "execution_count": 101,
   "metadata": {},
   "outputs": [],
   "source": [
    "open_position = False\n",
    "position = []\n",
    "pos_exit = []\n",
    "pos_type = []\n",
    "\n",
    "for row in eqty_table['M5'].index:\n",
    "    \n",
    "    if row < cci_period:\n",
    "        continue\n",
    "    \n",
    "    # Sinal entrada de Compra\n",
    "    elif not open_position and \\\n",
    "        eqty_table['M5'].loc[row-1, 'CCI'] < -100 and \\\n",
    "        eqty_table['M5'].loc[row, 'CCI'] > -100 and \\\n",
    "        eqty_table['M15'].loc[eqty_table['M5']['Index Higher Timeframe'][row]-1, \n",
    "                                'Skewness'] < 0 and \\\n",
    "        eqty_table['M15'].loc[eqty_table['M5']['Index Higher Timeframe'][row]-1,\n",
    "                              'Efficiency Ratio'] < 0.5:\n",
    "            open_position = True\n",
    "            pos_type = 'Buy'\n",
    "            std = eqty_table['M5'].loc[row, 'Standard Deviation']\n",
    "            position.append([row, pos_type, eqty_table['M5'].loc[row+1, 'Open'],\n",
    "                             std])\n",
    "    \n",
    "    # Sinal de Saída da Compra\n",
    "    elif open_position and \\\n",
    "        pos_type == 'Buy' and \\\n",
    "        eqty_table['M5'].loc[row-1, 'CCI'] < 100 and \\\n",
    "        eqty_table['M5'].loc[row, 'CCI'] > 100:\n",
    "            open_position = False\n",
    "            pos_type = 'Exit Buy'\n",
    "            position.append([row, pos_type, eqty_table['M5'].loc[row, 'Close'],\n",
    "                             0])\n",
    "    \n",
    "    elif open_position and \\\n",
    "        pos_type == 'Buy' and \\\n",
    "        eqty_table['M5'].loc[row-1, 'CCI'] > -100 and \\\n",
    "        eqty_table['M5'].loc[row, 'CCI'] < -100:\n",
    "            open_position = False\n",
    "            pos_type = 'Exit Buy'\n",
    "            position.append([row, pos_type, eqty_table['M5'].loc[row, 'Close'],\n",
    "                             0])\n",
    "            \n",
    "    # Sinal entrada de Venda\n",
    "    elif not open_position and \\\n",
    "        eqty_table['M5'].loc[row-1, 'CCI'] > 100 and \\\n",
    "        eqty_table['M5'].loc[row, 'CCI'] < 100 and \\\n",
    "        eqty_table['M15'].loc[eqty_table['M5']['Index Higher Timeframe'][row]-1, \n",
    "                                'Skewness'] > 0 and \\\n",
    "        eqty_table['M15'].loc[eqty_table['M5']['Index Higher Timeframe'][row]-1,\n",
    "                              'Efficiency Ratio'] < 0.5:\n",
    "            open_position = True\n",
    "            pos_type = 'Sell'\n",
    "            std = eqty_table['M5'].loc[row, 'Standard Deviation']\n",
    "            position.append([row, pos_type, eqty_table['M5'].loc[row+1, 'Open'],\n",
    "                             std])\n",
    "            \n",
    "    # Sinal de Saída da Venda\n",
    "    elif open_position and \\\n",
    "        pos_type == 'Sell' and \\\n",
    "        eqty_table['M5'].loc[row-1, 'CCI'] > -100 and \\\n",
    "        eqty_table['M5'].loc[row, 'CCI'] < -100:\n",
    "            open_position = False\n",
    "            pos_type = 'Exit Sell'\n",
    "            position.append([row, pos_type, eqty_table['M5'].loc[row, 'Close'],\n",
    "                             0])\n",
    "    \n",
    "    elif open_position and \\\n",
    "        pos_type == 'Sell' and \\\n",
    "        eqty_table['M5'].loc[row-1, 'CCI'] < 100 and \\\n",
    "        eqty_table['M5'].loc[row, 'CCI'] > 100:\n",
    "            open_position = False\n",
    "            pos_type = 'Exit Sell'\n",
    "            position.append([row, pos_type, eqty_table['M5'].loc[row, 'Close'],\n",
    "                             0])"
   ]
  },
  {
   "cell_type": "code",
   "execution_count": 159,
   "metadata": {},
   "outputs": [
    {
     "data": {
      "text/plain": [
       "[[49, 'Sell', 118300.0, 90.91754506144565],\n",
       " [50, 'Exit Sell', 118390.0, 0],\n",
       " [95, 'Sell', 118700.0, 142.29624809608376],\n",
       " [103, 'Exit Sell', 118895.0, 0],\n",
       " [153, 'Buy', 118495.0, 135.37848179579106],\n",
       " [155, 'Exit Buy', 118160.0, 0],\n",
       " [158, 'Buy', 118325.0, 128.64680330268607],\n",
       " [166, 'Exit Buy', 118660.0, 0],\n",
       " [234, 'Buy', 117140.0, 172.45740214776387],\n",
       " [242, 'Exit Buy', 116955.0, 0],\n",
       " [255, 'Sell', 117290.0, 196.26908965895663],\n",
       " [256, 'Exit Sell', 117530.0, 0],\n",
       " [374, 'Sell', 116745.0, 89.04680417248747],\n",
       " [383, 'Exit Sell', 116795.0, 0],\n",
       " [514, 'Buy', 116745.0, 221.29768789272666]]"
      ]
     },
     "execution_count": 159,
     "metadata": {},
     "output_type": "execute_result"
    }
   ],
   "source": [
    "position[0:15]"
   ]
  },
  {
   "cell_type": "code",
   "execution_count": 172,
   "metadata": {},
   "outputs": [],
   "source": [
    "df = pd.DataFrame(position, columns=['Index', 'Position Type', 'Position', 'Standard Deviation'])"
   ]
  },
  {
   "cell_type": "code",
   "execution_count": 173,
   "metadata": {},
   "outputs": [
    {
     "data": {
      "text/html": [
       "<div>\n",
       "<style scoped>\n",
       "    .dataframe tbody tr th:only-of-type {\n",
       "        vertical-align: middle;\n",
       "    }\n",
       "\n",
       "    .dataframe tbody tr th {\n",
       "        vertical-align: top;\n",
       "    }\n",
       "\n",
       "    .dataframe thead th {\n",
       "        text-align: right;\n",
       "    }\n",
       "</style>\n",
       "<table border=\"1\" class=\"dataframe\">\n",
       "  <thead>\n",
       "    <tr style=\"text-align: right;\">\n",
       "      <th></th>\n",
       "      <th>Index</th>\n",
       "      <th>Position Type</th>\n",
       "      <th>Position</th>\n",
       "      <th>Standard Deviation</th>\n",
       "    </tr>\n",
       "  </thead>\n",
       "  <tbody>\n",
       "    <tr>\n",
       "      <th>0</th>\n",
       "      <td>49</td>\n",
       "      <td>Sell</td>\n",
       "      <td>118300.0</td>\n",
       "      <td>90.917545</td>\n",
       "    </tr>\n",
       "    <tr>\n",
       "      <th>1</th>\n",
       "      <td>50</td>\n",
       "      <td>Exit Sell</td>\n",
       "      <td>118390.0</td>\n",
       "      <td>0.000000</td>\n",
       "    </tr>\n",
       "    <tr>\n",
       "      <th>2</th>\n",
       "      <td>95</td>\n",
       "      <td>Sell</td>\n",
       "      <td>118700.0</td>\n",
       "      <td>142.296248</td>\n",
       "    </tr>\n",
       "    <tr>\n",
       "      <th>3</th>\n",
       "      <td>103</td>\n",
       "      <td>Exit Sell</td>\n",
       "      <td>118895.0</td>\n",
       "      <td>0.000000</td>\n",
       "    </tr>\n",
       "    <tr>\n",
       "      <th>4</th>\n",
       "      <td>153</td>\n",
       "      <td>Buy</td>\n",
       "      <td>118495.0</td>\n",
       "      <td>135.378482</td>\n",
       "    </tr>\n",
       "    <tr>\n",
       "      <th>...</th>\n",
       "      <td>...</td>\n",
       "      <td>...</td>\n",
       "      <td>...</td>\n",
       "      <td>...</td>\n",
       "    </tr>\n",
       "    <tr>\n",
       "      <th>471</th>\n",
       "      <td>12674</td>\n",
       "      <td>Exit Sell</td>\n",
       "      <td>94420.0</td>\n",
       "      <td>0.000000</td>\n",
       "    </tr>\n",
       "    <tr>\n",
       "      <th>472</th>\n",
       "      <td>12678</td>\n",
       "      <td>Buy</td>\n",
       "      <td>94600.0</td>\n",
       "      <td>218.233820</td>\n",
       "    </tr>\n",
       "    <tr>\n",
       "      <th>473</th>\n",
       "      <td>12680</td>\n",
       "      <td>Exit Buy</td>\n",
       "      <td>94940.0</td>\n",
       "      <td>0.000000</td>\n",
       "    </tr>\n",
       "    <tr>\n",
       "      <th>474</th>\n",
       "      <td>12704</td>\n",
       "      <td>Buy</td>\n",
       "      <td>94625.0</td>\n",
       "      <td>92.235207</td>\n",
       "    </tr>\n",
       "    <tr>\n",
       "      <th>475</th>\n",
       "      <td>12707</td>\n",
       "      <td>Exit Buy</td>\n",
       "      <td>94925.0</td>\n",
       "      <td>0.000000</td>\n",
       "    </tr>\n",
       "  </tbody>\n",
       "</table>\n",
       "<p>476 rows × 4 columns</p>\n",
       "</div>"
      ],
      "text/plain": [
       "     Index Position Type  Position  Standard Deviation\n",
       "0       49          Sell  118300.0           90.917545\n",
       "1       50     Exit Sell  118390.0            0.000000\n",
       "2       95          Sell  118700.0          142.296248\n",
       "3      103     Exit Sell  118895.0            0.000000\n",
       "4      153           Buy  118495.0          135.378482\n",
       "..     ...           ...       ...                 ...\n",
       "471  12674     Exit Sell   94420.0            0.000000\n",
       "472  12678           Buy   94600.0          218.233820\n",
       "473  12680      Exit Buy   94940.0            0.000000\n",
       "474  12704           Buy   94625.0           92.235207\n",
       "475  12707      Exit Buy   94925.0            0.000000\n",
       "\n",
       "[476 rows x 4 columns]"
      ]
     },
     "execution_count": 173,
     "metadata": {},
     "output_type": "execute_result"
    }
   ],
   "source": [
    "df"
   ]
  },
  {
   "cell_type": "code",
   "execution_count": 174,
   "metadata": {},
   "outputs": [
    {
     "name": "stderr",
     "output_type": "stream",
     "text": [
      "C:\\ProgramData\\Anaconda3\\lib\\site-packages\\pandas\\core\\frame.py:4906: SettingWithCopyWarning: \n",
      "A value is trying to be set on a copy of a slice from a DataFrame\n",
      "\n",
      "See the caveats in the documentation: https://pandas.pydata.org/pandas-docs/stable/user_guide/indexing.html#returning-a-view-versus-a-copy\n",
      "  return super().drop(\n"
     ]
    },
    {
     "data": {
      "text/html": [
       "<div>\n",
       "<style scoped>\n",
       "    .dataframe tbody tr th:only-of-type {\n",
       "        vertical-align: middle;\n",
       "    }\n",
       "\n",
       "    .dataframe tbody tr th {\n",
       "        vertical-align: top;\n",
       "    }\n",
       "\n",
       "    .dataframe thead th {\n",
       "        text-align: right;\n",
       "    }\n",
       "</style>\n",
       "<table border=\"1\" class=\"dataframe\">\n",
       "  <thead>\n",
       "    <tr style=\"text-align: right;\">\n",
       "      <th></th>\n",
       "      <th>Index</th>\n",
       "      <th>Position Type</th>\n",
       "      <th>Position</th>\n",
       "      <th>Standard Deviation</th>\n",
       "    </tr>\n",
       "  </thead>\n",
       "  <tbody>\n",
       "    <tr>\n",
       "      <th>0</th>\n",
       "      <td>49</td>\n",
       "      <td>Sell</td>\n",
       "      <td>118300.0</td>\n",
       "      <td>90.917545</td>\n",
       "    </tr>\n",
       "    <tr>\n",
       "      <th>1</th>\n",
       "      <td>95</td>\n",
       "      <td>Sell</td>\n",
       "      <td>118700.0</td>\n",
       "      <td>142.296248</td>\n",
       "    </tr>\n",
       "    <tr>\n",
       "      <th>2</th>\n",
       "      <td>153</td>\n",
       "      <td>Buy</td>\n",
       "      <td>118495.0</td>\n",
       "      <td>135.378482</td>\n",
       "    </tr>\n",
       "    <tr>\n",
       "      <th>3</th>\n",
       "      <td>158</td>\n",
       "      <td>Buy</td>\n",
       "      <td>118325.0</td>\n",
       "      <td>128.646803</td>\n",
       "    </tr>\n",
       "    <tr>\n",
       "      <th>4</th>\n",
       "      <td>234</td>\n",
       "      <td>Buy</td>\n",
       "      <td>117140.0</td>\n",
       "      <td>172.457402</td>\n",
       "    </tr>\n",
       "    <tr>\n",
       "      <th>...</th>\n",
       "      <td>...</td>\n",
       "      <td>...</td>\n",
       "      <td>...</td>\n",
       "      <td>...</td>\n",
       "    </tr>\n",
       "    <tr>\n",
       "      <th>233</th>\n",
       "      <td>12572</td>\n",
       "      <td>Buy</td>\n",
       "      <td>95405.0</td>\n",
       "      <td>247.328841</td>\n",
       "    </tr>\n",
       "    <tr>\n",
       "      <th>234</th>\n",
       "      <td>12621</td>\n",
       "      <td>Buy</td>\n",
       "      <td>94370.0</td>\n",
       "      <td>201.754526</td>\n",
       "    </tr>\n",
       "    <tr>\n",
       "      <th>235</th>\n",
       "      <td>12672</td>\n",
       "      <td>Sell</td>\n",
       "      <td>94570.0</td>\n",
       "      <td>141.539158</td>\n",
       "    </tr>\n",
       "    <tr>\n",
       "      <th>236</th>\n",
       "      <td>12678</td>\n",
       "      <td>Buy</td>\n",
       "      <td>94600.0</td>\n",
       "      <td>218.233820</td>\n",
       "    </tr>\n",
       "    <tr>\n",
       "      <th>237</th>\n",
       "      <td>12704</td>\n",
       "      <td>Buy</td>\n",
       "      <td>94625.0</td>\n",
       "      <td>92.235207</td>\n",
       "    </tr>\n",
       "  </tbody>\n",
       "</table>\n",
       "<p>238 rows × 4 columns</p>\n",
       "</div>"
      ],
      "text/plain": [
       "     Index Position Type  Position  Standard Deviation\n",
       "0       49          Sell  118300.0           90.917545\n",
       "1       95          Sell  118700.0          142.296248\n",
       "2      153           Buy  118495.0          135.378482\n",
       "3      158           Buy  118325.0          128.646803\n",
       "4      234           Buy  117140.0          172.457402\n",
       "..     ...           ...       ...                 ...\n",
       "233  12572           Buy   95405.0          247.328841\n",
       "234  12621           Buy   94370.0          201.754526\n",
       "235  12672          Sell   94570.0          141.539158\n",
       "236  12678           Buy   94600.0          218.233820\n",
       "237  12704           Buy   94625.0           92.235207\n",
       "\n",
       "[238 rows x 4 columns]"
      ]
     },
     "execution_count": 174,
     "metadata": {},
     "output_type": "execute_result"
    }
   ],
   "source": [
    "df2 = df.iloc[::2] \n",
    "df2.reset_index(inplace=True)\n",
    "df2.drop('index', axis=1, inplace=True)\n",
    "df2"
   ]
  },
  {
   "cell_type": "code",
   "execution_count": 175,
   "metadata": {},
   "outputs": [
    {
     "name": "stderr",
     "output_type": "stream",
     "text": [
      "C:\\ProgramData\\Anaconda3\\lib\\site-packages\\pandas\\core\\frame.py:4906: SettingWithCopyWarning: \n",
      "A value is trying to be set on a copy of a slice from a DataFrame\n",
      "\n",
      "See the caveats in the documentation: https://pandas.pydata.org/pandas-docs/stable/user_guide/indexing.html#returning-a-view-versus-a-copy\n",
      "  return super().drop(\n",
      "C:\\ProgramData\\Anaconda3\\lib\\site-packages\\pandas\\core\\frame.py:5039: SettingWithCopyWarning: \n",
      "A value is trying to be set on a copy of a slice from a DataFrame\n",
      "\n",
      "See the caveats in the documentation: https://pandas.pydata.org/pandas-docs/stable/user_guide/indexing.html#returning-a-view-versus-a-copy\n",
      "  return super().rename(\n"
     ]
    }
   ],
   "source": [
    "df3 = df.iloc[1::2]\n",
    "df3.reset_index(inplace=True)\n",
    "df3.drop('index', axis=1, inplace=True)\n",
    "df3.rename(columns={'Position': 'Position Exit', \n",
    "                    'Position Type': 'Position Type Exit',\n",
    "                    'Standard Deviation': 'Standard Deviation Exit'}, \n",
    "           inplace=True)"
   ]
  },
  {
   "cell_type": "code",
   "execution_count": 176,
   "metadata": {},
   "outputs": [
    {
     "data": {
      "text/html": [
       "<div>\n",
       "<style scoped>\n",
       "    .dataframe tbody tr th:only-of-type {\n",
       "        vertical-align: middle;\n",
       "    }\n",
       "\n",
       "    .dataframe tbody tr th {\n",
       "        vertical-align: top;\n",
       "    }\n",
       "\n",
       "    .dataframe thead th {\n",
       "        text-align: right;\n",
       "    }\n",
       "</style>\n",
       "<table border=\"1\" class=\"dataframe\">\n",
       "  <thead>\n",
       "    <tr style=\"text-align: right;\">\n",
       "      <th></th>\n",
       "      <th>Index</th>\n",
       "      <th>Position Type</th>\n",
       "      <th>Position</th>\n",
       "      <th>Standard Deviation</th>\n",
       "      <th>Index</th>\n",
       "      <th>Position Type Exit</th>\n",
       "      <th>Position Exit</th>\n",
       "      <th>Standard Deviation Exit</th>\n",
       "    </tr>\n",
       "  </thead>\n",
       "  <tbody>\n",
       "    <tr>\n",
       "      <th>0</th>\n",
       "      <td>49</td>\n",
       "      <td>Sell</td>\n",
       "      <td>118300.0</td>\n",
       "      <td>90.917545</td>\n",
       "      <td>50</td>\n",
       "      <td>Exit Sell</td>\n",
       "      <td>118390.0</td>\n",
       "      <td>0.0</td>\n",
       "    </tr>\n",
       "    <tr>\n",
       "      <th>1</th>\n",
       "      <td>95</td>\n",
       "      <td>Sell</td>\n",
       "      <td>118700.0</td>\n",
       "      <td>142.296248</td>\n",
       "      <td>103</td>\n",
       "      <td>Exit Sell</td>\n",
       "      <td>118895.0</td>\n",
       "      <td>0.0</td>\n",
       "    </tr>\n",
       "    <tr>\n",
       "      <th>2</th>\n",
       "      <td>153</td>\n",
       "      <td>Buy</td>\n",
       "      <td>118495.0</td>\n",
       "      <td>135.378482</td>\n",
       "      <td>155</td>\n",
       "      <td>Exit Buy</td>\n",
       "      <td>118160.0</td>\n",
       "      <td>0.0</td>\n",
       "    </tr>\n",
       "    <tr>\n",
       "      <th>3</th>\n",
       "      <td>158</td>\n",
       "      <td>Buy</td>\n",
       "      <td>118325.0</td>\n",
       "      <td>128.646803</td>\n",
       "      <td>166</td>\n",
       "      <td>Exit Buy</td>\n",
       "      <td>118660.0</td>\n",
       "      <td>0.0</td>\n",
       "    </tr>\n",
       "    <tr>\n",
       "      <th>4</th>\n",
       "      <td>234</td>\n",
       "      <td>Buy</td>\n",
       "      <td>117140.0</td>\n",
       "      <td>172.457402</td>\n",
       "      <td>242</td>\n",
       "      <td>Exit Buy</td>\n",
       "      <td>116955.0</td>\n",
       "      <td>0.0</td>\n",
       "    </tr>\n",
       "    <tr>\n",
       "      <th>...</th>\n",
       "      <td>...</td>\n",
       "      <td>...</td>\n",
       "      <td>...</td>\n",
       "      <td>...</td>\n",
       "      <td>...</td>\n",
       "      <td>...</td>\n",
       "      <td>...</td>\n",
       "      <td>...</td>\n",
       "    </tr>\n",
       "    <tr>\n",
       "      <th>233</th>\n",
       "      <td>12572</td>\n",
       "      <td>Buy</td>\n",
       "      <td>95405.0</td>\n",
       "      <td>247.328841</td>\n",
       "      <td>12573</td>\n",
       "      <td>Exit Buy</td>\n",
       "      <td>95360.0</td>\n",
       "      <td>0.0</td>\n",
       "    </tr>\n",
       "    <tr>\n",
       "      <th>234</th>\n",
       "      <td>12621</td>\n",
       "      <td>Buy</td>\n",
       "      <td>94370.0</td>\n",
       "      <td>201.754526</td>\n",
       "      <td>12625</td>\n",
       "      <td>Exit Buy</td>\n",
       "      <td>94240.0</td>\n",
       "      <td>0.0</td>\n",
       "    </tr>\n",
       "    <tr>\n",
       "      <th>235</th>\n",
       "      <td>12672</td>\n",
       "      <td>Sell</td>\n",
       "      <td>94570.0</td>\n",
       "      <td>141.539158</td>\n",
       "      <td>12674</td>\n",
       "      <td>Exit Sell</td>\n",
       "      <td>94420.0</td>\n",
       "      <td>0.0</td>\n",
       "    </tr>\n",
       "    <tr>\n",
       "      <th>236</th>\n",
       "      <td>12678</td>\n",
       "      <td>Buy</td>\n",
       "      <td>94600.0</td>\n",
       "      <td>218.233820</td>\n",
       "      <td>12680</td>\n",
       "      <td>Exit Buy</td>\n",
       "      <td>94940.0</td>\n",
       "      <td>0.0</td>\n",
       "    </tr>\n",
       "    <tr>\n",
       "      <th>237</th>\n",
       "      <td>12704</td>\n",
       "      <td>Buy</td>\n",
       "      <td>94625.0</td>\n",
       "      <td>92.235207</td>\n",
       "      <td>12707</td>\n",
       "      <td>Exit Buy</td>\n",
       "      <td>94925.0</td>\n",
       "      <td>0.0</td>\n",
       "    </tr>\n",
       "  </tbody>\n",
       "</table>\n",
       "<p>238 rows × 8 columns</p>\n",
       "</div>"
      ],
      "text/plain": [
       "     Index Position Type  Position  Standard Deviation  Index  \\\n",
       "0       49          Sell  118300.0           90.917545     50   \n",
       "1       95          Sell  118700.0          142.296248    103   \n",
       "2      153           Buy  118495.0          135.378482    155   \n",
       "3      158           Buy  118325.0          128.646803    166   \n",
       "4      234           Buy  117140.0          172.457402    242   \n",
       "..     ...           ...       ...                 ...    ...   \n",
       "233  12572           Buy   95405.0          247.328841  12573   \n",
       "234  12621           Buy   94370.0          201.754526  12625   \n",
       "235  12672          Sell   94570.0          141.539158  12674   \n",
       "236  12678           Buy   94600.0          218.233820  12680   \n",
       "237  12704           Buy   94625.0           92.235207  12707   \n",
       "\n",
       "    Position Type Exit  Position Exit  Standard Deviation Exit  \n",
       "0            Exit Sell       118390.0                      0.0  \n",
       "1            Exit Sell       118895.0                      0.0  \n",
       "2             Exit Buy       118160.0                      0.0  \n",
       "3             Exit Buy       118660.0                      0.0  \n",
       "4             Exit Buy       116955.0                      0.0  \n",
       "..                 ...            ...                      ...  \n",
       "233           Exit Buy        95360.0                      0.0  \n",
       "234           Exit Buy        94240.0                      0.0  \n",
       "235          Exit Sell        94420.0                      0.0  \n",
       "236           Exit Buy        94940.0                      0.0  \n",
       "237           Exit Buy        94925.0                      0.0  \n",
       "\n",
       "[238 rows x 8 columns]"
      ]
     },
     "execution_count": 176,
     "metadata": {},
     "output_type": "execute_result"
    }
   ],
   "source": [
    "df = pd.concat([df2, df3], axis=1)\n",
    "df"
   ]
  },
  {
   "cell_type": "code",
   "execution_count": 177,
   "metadata": {},
   "outputs": [
    {
     "data": {
      "text/plain": [
       "0      -90.0\n",
       "1     -195.0\n",
       "2      335.0\n",
       "3     -335.0\n",
       "4      185.0\n",
       "       ...  \n",
       "233     45.0\n",
       "234    130.0\n",
       "235    150.0\n",
       "236   -340.0\n",
       "237   -300.0\n",
       "Length: 238, dtype: float64"
      ]
     },
     "execution_count": 177,
     "metadata": {},
     "output_type": "execute_result"
    }
   ],
   "source": [
    "calc = df['Position'] - df['Position Exit']\n",
    "calc"
   ]
  },
  {
   "cell_type": "code",
   "execution_count": 178,
   "metadata": {},
   "outputs": [
    {
     "data": {
      "text/plain": [
       "'Sell'"
      ]
     },
     "execution_count": 178,
     "metadata": {},
     "output_type": "execute_result"
    }
   ],
   "source": [
    "df.loc[0, 'Position Type']"
   ]
  },
  {
   "cell_type": "code",
   "execution_count": 179,
   "metadata": {},
   "outputs": [
    {
     "data": {
      "text/plain": [
       "array([ 9.000e+01,  1.950e+02,  3.350e+02, -3.350e+02,  1.850e+02,\n",
       "        2.400e+02,  5.000e+01, -2.700e+02,  4.550e+02, -2.050e+02,\n",
       "        2.600e+02, -7.500e+01, -2.950e+02, -2.500e+02,  7.000e+01,\n",
       "        6.000e+01,  7.500e+01,  6.500e+01, -2.250e+02, -5.000e+02,\n",
       "        4.000e+01, -1.900e+02, -4.700e+02, -1.500e+02,  1.300e+02,\n",
       "       -7.500e+01,  7.500e+01,  1.050e+02,  1.200e+02,  9.500e+01,\n",
       "        7.000e+01, -1.800e+02, -3.400e+02,  1.500e+02,  4.000e+01,\n",
       "        1.700e+02, -1.100e+02, -1.500e+02, -2.750e+02,  1.500e+02,\n",
       "        1.650e+02,  5.500e+01,  2.300e+02,  1.200e+02,  1.000e+02,\n",
       "       -4.650e+02,  1.750e+02, -3.850e+02, -9.000e+01, -2.650e+02,\n",
       "        2.700e+02,  2.800e+02,  3.400e+02, -5.000e+00,  3.050e+02,\n",
       "       -3.800e+02, -2.150e+02,  1.350e+02,  1.150e+03,  1.400e+02,\n",
       "        5.450e+02, -2.450e+02,  3.550e+02,  1.950e+02,  2.200e+02,\n",
       "       -2.200e+02,  1.800e+02, -5.800e+02,  1.400e+02, -1.350e+02,\n",
       "       -1.150e+02, -3.800e+02,  1.900e+02, -1.750e+02, -5.750e+02,\n",
       "       -2.000e+01, -4.000e+01, -3.600e+02, -4.400e+02, -2.500e+02,\n",
       "       -2.000e+02,  2.650e+02,  1.350e+02,  1.550e+02, -4.545e+03,\n",
       "       -1.330e+03,  4.950e+02,  3.700e+02,  7.000e+02,  8.800e+02,\n",
       "        1.895e+03,  5.400e+02,  2.600e+02,  5.150e+02, -7.500e+02,\n",
       "       -6.150e+02, -1.105e+03, -9.550e+02,  8.050e+02,  6.600e+02,\n",
       "       -1.745e+03,  5.810e+03, -3.100e+03,  1.110e+03,  6.500e+02,\n",
       "       -1.500e+01, -2.245e+03,  4.650e+02,  6.600e+02, -2.795e+03,\n",
       "        4.900e+02, -8.650e+02, -8.650e+02,  4.350e+02,  2.050e+02,\n",
       "       -5.500e+02, -5.950e+02, -1.250e+02,  4.250e+02,  3.050e+02,\n",
       "        1.900e+02, -6.000e+02,  3.350e+02, -3.200e+02, -4.900e+02,\n",
       "       -4.350e+02,  3.400e+02,  3.750e+02,  2.400e+02,  4.800e+02,\n",
       "        3.100e+02, -3.050e+02, -8.400e+02,  4.150e+02,  3.000e+02,\n",
       "       -5.000e+02,  3.100e+02,  4.450e+02, -6.200e+02,  1.650e+02,\n",
       "        1.900e+02,  8.500e+01,  4.850e+02,  5.900e+02, -4.550e+02,\n",
       "        7.500e+01, -1.700e+02,  2.100e+02,  1.600e+02,  2.050e+02,\n",
       "        2.900e+02,  8.500e+02,  1.600e+02, -6.300e+02,  9.050e+02,\n",
       "       -1.020e+03, -7.100e+02,  6.000e+01,  3.350e+02,  3.200e+02,\n",
       "       -6.700e+02, -1.050e+02,  1.300e+02, -1.035e+03,  2.200e+02,\n",
       "       -2.850e+02, -1.105e+03, -4.700e+02, -1.500e+02,  1.650e+02,\n",
       "       -5.000e+02,  4.000e+02,  4.500e+01, -7.000e+02,  2.050e+02,\n",
       "        2.750e+02,  3.050e+02,  3.000e+02, -1.200e+02, -3.550e+02,\n",
       "       -5.900e+02, -5.350e+02, -3.100e+02,  5.050e+02, -2.950e+02,\n",
       "        1.450e+02,  1.200e+02,  6.550e+02,  2.450e+02, -3.100e+02,\n",
       "       -2.600e+02,  2.150e+02,  4.050e+02, -3.550e+02, -2.950e+02,\n",
       "       -4.700e+02, -8.050e+02,  1.900e+02,  1.900e+02,  2.450e+02,\n",
       "       -1.200e+02,  4.100e+02,  1.900e+02, -1.050e+02,  1.050e+02,\n",
       "        1.100e+02,  2.000e+02, -2.500e+02, -1.200e+03,  2.450e+02,\n",
       "       -5.750e+02, -5.650e+02,  4.700e+02, -5.000e+02,  2.500e+02,\n",
       "       -3.150e+02,  4.500e+01, -1.730e+03,  1.250e+02, -4.050e+02,\n",
       "        2.150e+02, -3.850e+02, -1.400e+02,  1.265e+03, -3.950e+02,\n",
       "       -3.300e+02, -9.800e+02, -1.600e+02,  3.800e+02,  2.600e+02,\n",
       "       -6.050e+02,  1.850e+02,  3.800e+02,  4.500e+01,  1.300e+02,\n",
       "       -1.500e+02, -3.400e+02, -3.000e+02])"
      ]
     },
     "execution_count": 179,
     "metadata": {},
     "output_type": "execute_result"
    }
   ],
   "source": [
    "points = []\n",
    "for row in df.index:\n",
    "    if df.loc[row, 'Position Type'] == 'Buy':\n",
    "        points = np.append(points, df.loc[row, 'Position'] - df.loc[row, 'Position Exit'])\n",
    "    else:\n",
    "        points = np.append(points, [df.loc[row, 'Position Exit'] - df.loc[row, 'Position']])\n",
    "\n",
    "points"
   ]
  },
  {
   "cell_type": "code",
   "execution_count": 170,
   "metadata": {},
   "outputs": [
    {
     "data": {
      "text/plain": [
       "0      181.835090\n",
       "1      284.592496\n",
       "2      270.756964\n",
       "3      257.293607\n",
       "4      344.914804\n",
       "          ...    \n",
       "233    494.657682\n",
       "234    403.509053\n",
       "235    283.078317\n",
       "236    436.467639\n",
       "237    184.470413\n",
       "Name: Standard Deviation, Length: 238, dtype: float64"
      ]
     },
     "execution_count": 170,
     "metadata": {},
     "output_type": "execute_result"
    }
   ],
   "source": [
    "stds = df['Standard Deviation'] * 2\n",
    "stds"
   ]
  },
  {
   "cell_type": "code",
   "execution_count": 180,
   "metadata": {},
   "outputs": [
    {
     "data": {
      "text/plain": [
       "0      0.494954\n",
       "1      0.685190\n",
       "2      1.237272\n",
       "3     -1.302014\n",
       "4      0.536364\n",
       "         ...   \n",
       "233    0.090972\n",
       "234    0.322174\n",
       "235   -0.529889\n",
       "236   -0.778981\n",
       "237   -1.626277\n",
       "Name: Standard Deviation, Length: 238, dtype: float64"
      ]
     },
     "execution_count": 180,
     "metadata": {},
     "output_type": "execute_result"
    }
   ],
   "source": [
    "r = points / stds\n",
    "\n",
    "r"
   ]
  },
  {
   "cell_type": "code",
   "execution_count": 181,
   "metadata": {},
   "outputs": [
    {
     "data": {
      "text/plain": [
       "-44.8586333989949"
      ]
     },
     "execution_count": 181,
     "metadata": {},
     "output_type": "execute_result"
    }
   ],
   "source": [
    "sum(r)"
   ]
  }
 ],
 "metadata": {
  "interpreter": {
   "hash": "b3ba2566441a7c06988d0923437866b63cedc61552a5af99d1f4fb67d367b25f"
  },
  "kernelspec": {
   "display_name": "Python 3.9.7 64-bit ('base': conda)",
   "language": "python",
   "name": "python3"
  },
  "language_info": {
   "codemirror_mode": {
    "name": "ipython",
    "version": 3
   },
   "file_extension": ".py",
   "mimetype": "text/x-python",
   "name": "python",
   "nbconvert_exporter": "python",
   "pygments_lexer": "ipython3",
   "version": "3.9.7"
  },
  "orig_nbformat": 4
 },
 "nbformat": 4,
 "nbformat_minor": 2
}
